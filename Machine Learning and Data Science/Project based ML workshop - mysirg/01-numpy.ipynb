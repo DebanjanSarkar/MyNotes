{
 "cells": [
  {
   "cell_type": "markdown",
   "id": "499eb63d-649b-4c76-b2e6-875cd48ebacc",
   "metadata": {},
   "source": [
    "# Numpy library:-\n",
    "------------------"
   ]
  },
  {
   "cell_type": "code",
   "execution_count": 1,
   "id": "1b0fb3fb-242f-40f3-b5c1-cf0451a28c10",
   "metadata": {},
   "outputs": [],
   "source": [
    "import numpy as np\n",
    "import sys"
   ]
  },
  {
   "cell_type": "markdown",
   "id": "28035c9c-0e59-4416-bf4f-7044b2a198fe",
   "metadata": {},
   "source": [
    "## 1. Creating ndarray:\n",
    "------------------------\n",
    "- from Python List\n",
    "- using `numpy.zeros()` method.\n",
    "- using `numpy.ones()` method.\n",
    "- using `numpy.full()` method.\n",
    "- using `numpy.identity()` method.\n",
    "- using `numpy.random.rand()` method.\n",
    "- using `numpy.random.randint()` method."
   ]
  },
  {
   "cell_type": "markdown",
   "id": "a6e0ac99-e6bf-4699-a5cd-922e43da8b28",
   "metadata": {},
   "source": [
    "### 1D Array\n",
    "--------------"
   ]
  },
  {
   "cell_type": "code",
   "execution_count": 2,
   "id": "6b91fb84-0996-4975-81b9-76e1837cf337",
   "metadata": {},
   "outputs": [
    {
     "name": "stdout",
     "output_type": "stream",
     "text": [
      "[1 2 3] <class 'numpy.ndarray'>\n"
     ]
    }
   ],
   "source": [
    "a = np.array( [1,2,3] )\n",
    "print(a, type(a))"
   ]
  },
  {
   "cell_type": "code",
   "execution_count": 3,
   "id": "8c71ff0d-0257-4fc9-a8df-78639d72774b",
   "metadata": {},
   "outputs": [
    {
     "name": "stdout",
     "output_type": "stream",
     "text": [
      "124\n"
     ]
    }
   ],
   "source": [
    "print( sys.getsizeof(a) )"
   ]
  },
  {
   "cell_type": "code",
   "execution_count": 4,
   "id": "4cc64118-63b3-4033-96d8-6cbd252fee5d",
   "metadata": {},
   "outputs": [
    {
     "name": "stdout",
     "output_type": "stream",
     "text": [
      "88 128\n"
     ]
    }
   ],
   "source": [
    "lst = [1,2,3,4]\n",
    "arr = np.array(lst)\n",
    "\n",
    "print( sys.getsizeof(lst), sys.getsizeof(arr) )"
   ]
  },
  {
   "cell_type": "code",
   "execution_count": 5,
   "id": "5ee9accc-e75a-4b88-9b3a-e2424bf7bdea",
   "metadata": {},
   "outputs": [
    {
     "name": "stdout",
     "output_type": "stream",
     "text": [
      "72 128\n"
     ]
    }
   ],
   "source": [
    "print( lst.__sizeof__(), arr.__sizeof__() )"
   ]
  },
  {
   "cell_type": "markdown",
   "id": "3ecd4258-32ad-483e-a3e3-12e0cd6d6dab",
   "metadata": {},
   "source": [
    "### 2D Array:\n",
    "--------------\n",
    "**A 2D array is actually a matrix, thus each row must have same number of elements, else matrix cannot be formed.** <br>\n",
    "For a 2D array to be formed, each inner list of the list of lists must contain same number of elements. <br>\n",
    "Else, the array would be considered as a 1D array."
   ]
  },
  {
   "cell_type": "code",
   "execution_count": 7,
   "id": "3a34fe02-6678-40b1-b900-16b85200844c",
   "metadata": {},
   "outputs": [
    {
     "name": "stdout",
     "output_type": "stream",
     "text": [
      "<class 'numpy.ndarray'> <class 'numpy.ndarray'>\n"
     ]
    }
   ],
   "source": [
    "a = np.array( [[1,2,3],[10,20,30]] )\n",
    "print(type(a), type(a[0]) )"
   ]
  },
  {
   "cell_type": "markdown",
   "id": "5761fa22-45c4-4f84-ba47-a283161ce6dc",
   "metadata": {},
   "source": [
    "If we try to make a 2D array with a list of lists where each inner list has separate number of elements, then that will be considered as a 1D np array, where each element will be a list object(and not an np array of np arrays)."
   ]
  },
  {
   "cell_type": "code",
   "execution_count": 8,
   "id": "1f3fd2e3-16ac-4c5e-953a-d85aa0ac2111",
   "metadata": {},
   "outputs": [
    {
     "ename": "ValueError",
     "evalue": "setting an array element with a sequence. The requested array has an inhomogeneous shape after 1 dimensions. The detected shape was (2,) + inhomogeneous part.",
     "output_type": "error",
     "traceback": [
      "\u001b[1;31m---------------------------------------------------------------------------\u001b[0m",
      "\u001b[1;31mValueError\u001b[0m                                Traceback (most recent call last)",
      "Cell \u001b[1;32mIn[8], line 1\u001b[0m\n\u001b[1;32m----> 1\u001b[0m b \u001b[38;5;241m=\u001b[39m \u001b[43mnp\u001b[49m\u001b[38;5;241;43m.\u001b[39;49m\u001b[43marray\u001b[49m\u001b[43m(\u001b[49m\u001b[43m \u001b[49m\u001b[43m[\u001b[49m\u001b[43m[\u001b[49m\u001b[38;5;241;43m1\u001b[39;49m\u001b[43m,\u001b[49m\u001b[38;5;241;43m2\u001b[39;49m\u001b[43m,\u001b[49m\u001b[38;5;241;43m3\u001b[39;49m\u001b[43m]\u001b[49m\u001b[43m,\u001b[49m\u001b[43m \u001b[49m\u001b[43m[\u001b[49m\u001b[38;5;241;43m10\u001b[39;49m\u001b[43m,\u001b[49m\u001b[38;5;241;43m20\u001b[39;49m\u001b[43m]\u001b[49m\u001b[43m]\u001b[49m\u001b[43m \u001b[49m\u001b[43m)\u001b[49m\n\u001b[0;32m      2\u001b[0m \u001b[38;5;28mprint\u001b[39m( \u001b[38;5;28mtype\u001b[39m(b), \u001b[38;5;28mtype\u001b[39m(b[\u001b[38;5;241m0\u001b[39m]) )\n",
      "\u001b[1;31mValueError\u001b[0m: setting an array element with a sequence. The requested array has an inhomogeneous shape after 1 dimensions. The detected shape was (2,) + inhomogeneous part."
     ]
    }
   ],
   "source": [
    "b = np.array( [[1,2,3], [10,20]] )\n",
    "print( type(b), type(b[0]) )"
   ]
  },
  {
   "cell_type": "code",
   "execution_count": 10,
   "id": "901c7dc4-f70a-4c20-88bc-06e3f71028fa",
   "metadata": {},
   "outputs": [
    {
     "name": "stdout",
     "output_type": "stream",
     "text": [
      "<class 'numpy.ndarray'> <class 'list'>\n"
     ]
    }
   ],
   "source": [
    "b = np.array( [[1,2,3], [10,20]], dtype=object )\n",
    "print( type(b), type(b[0]) )"
   ]
  },
  {
   "cell_type": "code",
   "execution_count": 9,
   "id": "9724765c-8dce-4814-8e56-64e7c93a03a3",
   "metadata": {},
   "outputs": [
    {
     "ename": "ValueError",
     "evalue": "setting an array element with a sequence. The requested array has an inhomogeneous shape after 1 dimensions. The detected shape was (2,) + inhomogeneous part.",
     "output_type": "error",
     "traceback": [
      "\u001b[1;31m---------------------------------------------------------------------------\u001b[0m",
      "\u001b[1;31mValueError\u001b[0m                                Traceback (most recent call last)",
      "Cell \u001b[1;32mIn[9], line 1\u001b[0m\n\u001b[1;32m----> 1\u001b[0m c \u001b[38;5;241m=\u001b[39m \u001b[43mnp\u001b[49m\u001b[38;5;241;43m.\u001b[39;49m\u001b[43marray\u001b[49m\u001b[43m(\u001b[49m\u001b[43m \u001b[49m\u001b[43m[\u001b[49m\u001b[43m[\u001b[49m\u001b[38;5;241;43m1\u001b[39;49m\u001b[43m,\u001b[49m\u001b[38;5;241;43m2\u001b[39;49m\u001b[43m,\u001b[49m\u001b[38;5;241;43m3\u001b[39;49m\u001b[43m]\u001b[49m\u001b[43m,\u001b[49m\u001b[43m \u001b[49m\u001b[38;5;124;43m\"\u001b[39;49m\u001b[38;5;124;43mhello\u001b[39;49m\u001b[38;5;124;43m\"\u001b[39;49m\u001b[43m]\u001b[49m\u001b[43m \u001b[49m\u001b[43m)\u001b[49m\n\u001b[0;32m      2\u001b[0m \u001b[38;5;28mprint\u001b[39m( \u001b[38;5;28mtype\u001b[39m(c), \u001b[38;5;28mtype\u001b[39m(c[\u001b[38;5;241m0\u001b[39m]) )\n",
      "\u001b[1;31mValueError\u001b[0m: setting an array element with a sequence. The requested array has an inhomogeneous shape after 1 dimensions. The detected shape was (2,) + inhomogeneous part."
     ]
    }
   ],
   "source": [
    "c = np.array( [[1,2,3], \"hello\"] )\n",
    "print( type(c), type(c[0]) )"
   ]
  },
  {
   "cell_type": "code",
   "execution_count": 11,
   "id": "7dfa70b1-37df-48bd-83ed-3f680044305c",
   "metadata": {},
   "outputs": [
    {
     "name": "stdout",
     "output_type": "stream",
     "text": [
      "<class 'numpy.ndarray'> <class 'list'>\n"
     ]
    }
   ],
   "source": [
    "c = np.array( [[1,2,3], \"hello\"], dtype=object )\n",
    "print( type(c), type(c[0]) )"
   ]
  },
  {
   "cell_type": "markdown",
   "id": "55b32b44-e512-4b44-bff6-7337ee8530d2",
   "metadata": {},
   "source": [
    "### To create homogenous data in array, numpy converts the narrow datatype values to broad datatype values:\n",
    "- int to float\n",
    "- int to string\n",
    "- float to string\n",
    "etc.\n",
    "<br>\n",
    "The rightmost datatype present in the below sequence, all will be converted to that datatype:<br>\n",
    "int > float > string"
   ]
  },
  {
   "cell_type": "code",
   "execution_count": 14,
   "id": "a86cf0d5-b103-43c1-911c-996cc367cfce",
   "metadata": {},
   "outputs": [
    {
     "name": "stdout",
     "output_type": "stream",
     "text": [
      "[['1' '2' '3']\n",
      " ['10' '20' '30']] <class 'numpy.ndarray'> <class 'numpy.ndarray'>\n"
     ]
    }
   ],
   "source": [
    "# all the individual values are converted to string\n",
    "a = np.array( [[1,2,3],[10,'20',30]] )\n",
    "print(a, type(a), type(a[0]) )"
   ]
  },
  {
   "cell_type": "code",
   "execution_count": 15,
   "id": "181e6aac-4b4a-4396-9256-1d9d0fd84147",
   "metadata": {},
   "outputs": [
    {
     "name": "stdout",
     "output_type": "stream",
     "text": [
      "[[ 1.  2.  3.]\n",
      " [10. 20. 30.]] <class 'numpy.ndarray'> <class 'numpy.ndarray'>\n"
     ]
    }
   ],
   "source": [
    "# all the individual values are converted to float\n",
    "a = np.array( [[1,2,3.0],[10,20,30]] )\n",
    "print(a, type(a), type(a[0]) )"
   ]
  },
  {
   "cell_type": "code",
   "execution_count": 16,
   "id": "da07c732-2e71-407c-a1ec-c9ccbd2f586f",
   "metadata": {},
   "outputs": [
    {
     "name": "stdout",
     "output_type": "stream",
     "text": [
      "[['1.0' '2' '3']\n",
      " ['10' '20' '30']] <class 'numpy.ndarray'> <class 'numpy.ndarray'>\n"
     ]
    }
   ],
   "source": [
    "# all the individual values are converted to string\n",
    "a = np.array( [[1.0,2,3],[10,'20',30]] )\n",
    "print(a, type(a), type(a[0]) )"
   ]
  },
  {
   "cell_type": "markdown",
   "id": "de34cfb1-4bda-4f9f-8474-92bc6917fc7c",
   "metadata": {},
   "source": [
    "## 2. Getting number of dimensions of array:\n",
    "---------------------------------------------\n",
    "The `ndim` member variable of the numpy array object contains the number of dimensions of the array.\n"
   ]
  },
  {
   "cell_type": "code",
   "execution_count": 2,
   "id": "c5ef0d98-5916-40e3-98e0-3a8b8d406ad4",
   "metadata": {},
   "outputs": [
    {
     "name": "stdout",
     "output_type": "stream",
     "text": [
      "1\n"
     ]
    }
   ],
   "source": [
    "a = np.array( [1,2,3] )\n",
    "print( a.ndim )"
   ]
  },
  {
   "cell_type": "code",
   "execution_count": 3,
   "id": "bf043641-5e6d-4188-acf5-5f5ae3e027d7",
   "metadata": {},
   "outputs": [
    {
     "name": "stdout",
     "output_type": "stream",
     "text": [
      "2\n"
     ]
    }
   ],
   "source": [
    "b = np.array( [ [1,2,3], [10,20,30] ] )\n",
    "print( b.ndim )"
   ]
  },
  {
   "cell_type": "code",
   "execution_count": 6,
   "id": "53fff5e7-150b-4bc3-b4fd-35c4d7e5bc61",
   "metadata": {},
   "outputs": [
    {
     "name": "stdout",
     "output_type": "stream",
     "text": [
      "1\n"
     ]
    }
   ],
   "source": [
    "b = np.array( [[1,2,3], [10,20]], dtype=object )\n",
    "print( b.ndim )"
   ]
  },
  {
   "cell_type": "markdown",
   "id": "5d7c305e-c5c3-45a9-b082-6e815ed56815",
   "metadata": {},
   "source": [
    "## 3. Getting ORDER / SHAPE of a numpy array:\n",
    "----------------------------------------------\n",
    "- The `shape` member variable of the numpy array object contains the shape/order of a numpy array, in the form of a tuple.\n",
    "- The tuple contained in `shape` will have elements equal to number of dimensions of the numpy array, i.e., <br>\n",
    "    len( nparray.shape ) == nparray.ndim\n",
    "- Each number in the tuple is the number of elements that specific axis has.<br>\n",
    "    Ex- array with shape (3,5) means:\n",
    "  - It has 3(=element at index 0) rows(row is called 0 axis of a 2D nparray)\n",
    "  - It has 5(=element at index 1) columns(column is called 1 axis of a 2D nparray)"
   ]
  },
  {
   "cell_type": "code",
   "execution_count": 7,
   "id": "56fd6395-aa10-45c8-8391-5a7bf0c4d8ad",
   "metadata": {},
   "outputs": [
    {
     "name": "stdout",
     "output_type": "stream",
     "text": [
      "(2,)\n"
     ]
    }
   ],
   "source": [
    "a_1d_1 = np.array( [2,4] )\n",
    "print( a_1d_1.shape )"
   ]
  },
  {
   "cell_type": "code",
   "execution_count": 8,
   "id": "1667c734-dd08-451b-82c2-49d08d54b465",
   "metadata": {},
   "outputs": [
    {
     "name": "stdout",
     "output_type": "stream",
     "text": [
      "(5,)\n"
     ]
    }
   ],
   "source": [
    "a_1d_2 = np.array( [4,6,8,9,10] )\n",
    "print( a_1d_2.shape )"
   ]
  },
  {
   "cell_type": "code",
   "execution_count": 10,
   "id": "32a905dc-e868-4b74-bd3c-59ca189e9a10",
   "metadata": {},
   "outputs": [
    {
     "name": "stdout",
     "output_type": "stream",
     "text": [
      "(2, 3)\n"
     ]
    }
   ],
   "source": [
    "# 2 rows(axis=0) and 3 columns(axis=1), thus 2 at index 0 and 3 at index 1 == (2,3)\n",
    "a_2d_1 = np.array([ [2,4,6],[1,3,5] ])\n",
    "print( a_2d_1.shape )"
   ]
  },
  {
   "cell_type": "code",
   "execution_count": 15,
   "id": "42a5d0c4-0b9e-49e6-8cb9-e9cf5a07f4c7",
   "metadata": {},
   "outputs": [
    {
     "name": "stdout",
     "output_type": "stream",
     "text": [
      "(3, 5)\n"
     ]
    }
   ],
   "source": [
    "# 3 rows(axis=0) and 5 columns(axis=1), thus 3 at index 0 and 5 at index 1 == (2,3)\n",
    "list_3x5 = [\n",
    "    [1,2,3,4,5],\n",
    "    [10,20,30,40,50],\n",
    "    [100,200,300,400,500]\n",
    "]\n",
    "\n",
    "a_2d_2 = np.array( list_3x5 )\n",
    "print( a_2d_2.shape )"
   ]
  },
  {
   "cell_type": "code",
   "execution_count": 17,
   "id": "be0b35e6-ac99-4b21-89ae-cf3aca07eb75",
   "metadata": {},
   "outputs": [
    {
     "name": "stdout",
     "output_type": "stream",
     "text": [
      "(2, 3, 4)\n"
     ]
    }
   ],
   "source": [
    "# 2 elements at axis=0, in each such element 3 rows(axis=1) and 4 columns(axis=2), thus 2 at index=0, 3 at index 1 and 4 at index 2 == (2,3,4)\n",
    "list_2x3x4 = [\n",
    "    [\n",
    "        [1,   2,  3,  4],\n",
    "        [11, 22, 33, 44],\n",
    "        [1,   2,  3,  4]\n",
    "    ]\n",
    "    ,\n",
    "    [\n",
    "        [10,   20,  30,  40],\n",
    "        [100, 200, 300, 400],\n",
    "        [101, 202, 303, 404]\n",
    "    ]\n",
    "]\n",
    "\n",
    "a_3d_1 = np.array( list_2x3x4 )\n",
    "print( a_3d_1.shape )"
   ]
  },
  {
   "cell_type": "markdown",
   "id": "185a6f7b-21fa-4473-8d22-bb8c8be40253",
   "metadata": {},
   "source": [
    "## 4. Checking datatype of Np Array elements:\n",
    "-----------------------------------------------\n",
    "- Using `dtype` member variable/ attribute of the numpy array objects, we can get to know the datatype of the array elements.\n",
    "- The datatype of array elements are different than Python native datatypes. These datatypes are actually <u>*classes of the **numpy** module*</u>. Some of them are:<br>\n",
    "    - numpy.int32\n",
    "    - numpy.int64\n",
    "- Datatype are according to data types and size occupied. Ex- np.int32 means each element is of integer type, that occupies 32 bits each."
   ]
  },
  {
   "cell_type": "code",
   "execution_count": 19,
   "id": "4d1d417b-c66d-4101-b5b9-506279de2f1e",
   "metadata": {},
   "outputs": [
    {
     "name": "stdout",
     "output_type": "stream",
     "text": [
      "int32\n",
      "<class 'numpy.int32'>\n"
     ]
    }
   ],
   "source": [
    "a = np.array( [1,2,3,4] )\n",
    "print( a.dtype )\n",
    "print( type(a[0]) )"
   ]
  },
  {
   "cell_type": "code",
   "execution_count": 20,
   "id": "a03c14d2-c1f8-4af1-a1aa-073b1767da93",
   "metadata": {},
   "outputs": [
    {
     "name": "stdout",
     "output_type": "stream",
     "text": [
      "int64\n",
      "<class 'numpy.int64'>\n"
     ]
    }
   ],
   "source": [
    "b = np.array( [1,2,3,4], dtype = np.int64 )\n",
    "print( b.dtype )\n",
    "print( type(b[0]) )"
   ]
  },
  {
   "cell_type": "markdown",
   "id": "d0169f2a-99ca-4616-97cf-fc1100123985",
   "metadata": {},
   "source": [
    "## 5. Changing datatypes of array elements, while array creation:-\n",
    "-----------------------------------------------------------------------\n",
    "To change datatype of an array, we need to pass a second parameter to the `np.array()` method, which is a keyword argument named `dtype`. It is passed as:\n",
    "- `np.array( \"data_in_array\", dtype='int16' )` - Keyword argument passed is a string(of supported values).\n",
    "- `np.array( \"data_in_array\", dtype=numpy.int16 )` - Keyword argument passed is a numpy module datatype classes.\n",
    "\n",
    "Some datatypes of numpy module:-\n",
    "- np.int8\n",
    "- np.int16\n",
    "- np.int32\n",
    "- np.int64 <br><br>\n",
    "- np.uint8\n",
    "- np.uint16\n",
    "- np.uint32\n",
    "- np.uint64 <br><br>\n",
    "- np.float32\n",
    "- np.float64 <br><br>\n",
    "- np.complex64\n",
    "- np.complex128"
   ]
  },
  {
   "cell_type": "code",
   "execution_count": 21,
   "id": "99638393-9958-4328-b77c-3c86b790b58a",
   "metadata": {},
   "outputs": [
    {
     "name": "stdout",
     "output_type": "stream",
     "text": [
      "[1 2 3] int16\n"
     ]
    }
   ],
   "source": [
    "a = np.array( [1,2,3], dtype='int16' )\n",
    "print( a, a.dtype )"
   ]
  },
  {
   "cell_type": "code",
   "execution_count": 22,
   "id": "5f6b542d-b8f6-491d-9d77-7eef3707621d",
   "metadata": {},
   "outputs": [
    {
     "name": "stdout",
     "output_type": "stream",
     "text": [
      "[1 2 3] int16\n"
     ]
    }
   ],
   "source": [
    "a = np.array( [1,2,3], dtype=np.int16 )\n",
    "print( a, a.dtype )"
   ]
  },
  {
   "cell_type": "markdown",
   "id": "6d910282-97b0-4abe-825e-1f878eb3956e",
   "metadata": {},
   "source": [
    "## 6. Changing datatype of already created array:-\n",
    "-----------------------------------------------------\n",
    "- Using the `astype()` property / method / member function of numpy array object, datatype of array elements can be changed.\n",
    "- As parameter of `astype()`, we need to pass the new datatype, as string or class name.\n",
    "- `astype()` method **does not alter the datatype of the original array**. <u>It returns a new array, with the newly set datatype.</u>"
   ]
  },
  {
   "cell_type": "code",
   "execution_count": 24,
   "id": "aef54d92-5831-4c2f-b295-e2563123cf19",
   "metadata": {},
   "outputs": [
    {
     "name": "stdout",
     "output_type": "stream",
     "text": [
      "Initial datatype:  int32\n",
      "Final datatype:  int8\n"
     ]
    }
   ],
   "source": [
    "a = np.array( [1,2,3] )\n",
    "print(\"Initial datatype: \", a.dtype )\n",
    "a = a.astype('int8')\n",
    "print(\"Final datatype: \", a.dtype )"
   ]
  },
  {
   "cell_type": "code",
   "execution_count": 25,
   "id": "d08d34ad-0a41-4779-86b9-af5fef804eac",
   "metadata": {},
   "outputs": [
    {
     "name": "stdout",
     "output_type": "stream",
     "text": [
      "Initial datatype:  int32\n",
      "Final datatype:  float64\n"
     ]
    }
   ],
   "source": [
    "a = np.array( [1,2,3] )\n",
    "print(\"Initial datatype: \", a.dtype )\n",
    "a = a.astype(np.float64)\n",
    "print(\"Final datatype: \", a.dtype )"
   ]
  },
  {
   "cell_type": "markdown",
   "id": "697302c1-802b-420a-b123-5614fb6dcae6",
   "metadata": {},
   "source": [
    "## 7. Converting numpy array to Python LIST:-\n",
    "-----------------------------------------------\n",
    "- `tolist()` method of np array object returns the array by converting it into Python list."
   ]
  },
  {
   "cell_type": "code",
   "execution_count": 26,
   "id": "4024e2ba-964b-4dd0-b22b-a46d54ba0856",
   "metadata": {},
   "outputs": [
    {
     "name": "stdout",
     "output_type": "stream",
     "text": [
      "[1, 2, 3] <class 'list'>\n"
     ]
    }
   ],
   "source": [
    "a = np.array( [1,2,3] )\n",
    "l = a.tolist()\n",
    "print(l, type(l))"
   ]
  },
  {
   "cell_type": "markdown",
   "id": "fcc2bf88-a674-453c-b402-b27a5b54fd68",
   "metadata": {},
   "source": [
    "## 8. Accessing and changing array elements:-\n",
    "-----------------------------------------------\n",
    "Accessing array elements are similar to accessing list or some other indexable datatype elements."
   ]
  },
  {
   "cell_type": "code",
   "execution_count": 27,
   "id": "e2c1feb6-f82e-47c7-b08b-53ad02d87755",
   "metadata": {},
   "outputs": [
    {
     "name": "stdout",
     "output_type": "stream",
     "text": [
      "2\n"
     ]
    }
   ],
   "source": [
    "a_1d = np.array( [1,2,3] )\n",
    "print( a_1d[1] )"
   ]
  },
  {
   "cell_type": "code",
   "execution_count": 30,
   "id": "09c68c46-1605-4a34-9ef0-16ae0ab65498",
   "metadata": {},
   "outputs": [
    {
     "name": "stdout",
     "output_type": "stream",
     "text": [
      "6\n",
      "6\n"
     ]
    }
   ],
   "source": [
    "a_2d = np.array( [ [1,2,3], [4,5,6] ] )\n",
    "\n",
    "print( a_2d[1][2] ) # 1st way of accessing elements in a multidimensional array.\n",
    "print( a_2d[1,2] )  # 2nd way of accessing elements in a multidimensional array."
   ]
  },
  {
   "cell_type": "code",
   "execution_count": 32,
   "id": "ec80c64d-2683-490c-a556-a7caafbf5ef0",
   "metadata": {},
   "outputs": [
    {
     "name": "stdout",
     "output_type": "stream",
     "text": [
      "Initial: \n",
      " [[1 2 3]\n",
      " [4 5 6]]\n",
      "Final: \n",
      " [[  1   2   3]\n",
      " [  4   5 600]]\n"
     ]
    }
   ],
   "source": [
    "a_2d = np.array( [ [1,2,3], [4,5,6] ] )\n",
    "print(\"Initial: \\n\", a_2d)\n",
    "a_2d[1][2] = 600\n",
    "print(\"Final: \\n\", a_2d)"
   ]
  },
  {
   "cell_type": "markdown",
   "id": "f60b7320-c4eb-4847-b7ae-d8bb14111853",
   "metadata": {},
   "source": [
    "### Changing a complete 1D inner array"
   ]
  },
  {
   "cell_type": "code",
   "execution_count": 33,
   "id": "7d470c7c-3099-4334-9440-9e9ce14d1009",
   "metadata": {},
   "outputs": [
    {
     "name": "stdout",
     "output_type": "stream",
     "text": [
      "Initial: \n",
      " [[1 2 3]\n",
      " [4 5 6]]\n",
      "Final: \n",
      " [[   1    2    3]\n",
      " [ 100 2000  300]]\n"
     ]
    }
   ],
   "source": [
    "a_2d = np.array( [ [1,2,3], [4,5,6] ] )\n",
    "print(\"Initial: \\n\", a_2d)\n",
    "a_2d[1] = 100,2000,300\n",
    "print(\"Final: \\n\", a_2d)"
   ]
  },
  {
   "cell_type": "markdown",
   "id": "9b0c05df-d2d4-4184-87ae-e4c92e369597",
   "metadata": {},
   "source": [
    "### Viewing a single complete COLUMN in a 2D array:\n",
    "------------------------------------------------------\n",
    "- For this, slicing operator must be used.\n",
    "- To access column, only the second way of accessing numpy array elements must be used, i.e., [i, j, k, ... ndim] -> comma separated index values inside single pair of square brackets."
   ]
  },
  {
   "cell_type": "code",
   "execution_count": 35,
   "id": "e663ae63-94d0-4792-be3c-981a7d9a163b",
   "metadata": {},
   "outputs": [
    {
     "name": "stdout",
     "output_type": "stream",
     "text": [
      "[1 4]\n"
     ]
    }
   ],
   "source": [
    "a_2d = np.array( [ [1,2,3], [4,5,6] ] )\n",
    "\n",
    "print( a_2d[::, 0] )"
   ]
  },
  {
   "cell_type": "markdown",
   "id": "d86a0edf-96d8-45f8-b54a-526425ff68ab",
   "metadata": {},
   "source": [
    "## 9. Selecting a submatrix of a larger matrix:\n",
    "------------------------------------------------"
   ]
  },
  {
   "cell_type": "code",
   "execution_count": 37,
   "id": "263a620e-d132-4ae1-982f-e83dd072d4f8",
   "metadata": {},
   "outputs": [
    {
     "name": "stdout",
     "output_type": "stream",
     "text": [
      "[[  1   2   3   4   5]\n",
      " [ 10  20  30  40  50]\n",
      " [100 200 300 400 500]]\n"
     ]
    }
   ],
   "source": [
    "list_3x5 = [\n",
    "    [1,2,3,4,5],\n",
    "    [10,20,30,40,50],\n",
    "    [100,200,300,400,500]\n",
    "]\n",
    "\n",
    "a_2d = np.array( list_3x5 )\n",
    "print(a_2d)"
   ]
  },
  {
   "cell_type": "code",
   "execution_count": 38,
   "id": "ab0f477d-5043-4ffa-8797-5b875f114b54",
   "metadata": {},
   "outputs": [
    {
     "name": "stdout",
     "output_type": "stream",
     "text": [
      "[[ 30  40  50]\n",
      " [300 400 500]]\n"
     ]
    }
   ],
   "source": [
    "# Lower right submatrix 2x3:\n",
    "sub_mat = a_2d[ 1::, 2:: ]\n",
    "\n",
    "print(sub_mat)"
   ]
  },
  {
   "cell_type": "code",
   "execution_count": 39,
   "id": "ccfdb0e6-2472-4301-82d9-7e9121ec8406",
   "metadata": {},
   "outputs": [
    {
     "name": "stdout",
     "output_type": "stream",
     "text": [
      "[[ 10  20  30]\n",
      " [100 200 300]]\n"
     ]
    }
   ],
   "source": [
    "# Lower left submatrix 2x3:\n",
    "sub_mat2 = a_2d[ 1::, :3: ]\n",
    "\n",
    "print( sub_mat2 )"
   ]
  },
  {
   "cell_type": "code",
   "execution_count": 41,
   "id": "5473fa05-d188-4fac-8380-0b09ccee948d",
   "metadata": {},
   "outputs": [
    {
     "name": "stdout",
     "output_type": "stream",
     "text": [
      "[[ 1  2  3  4  5  6  7  8  9]\n",
      " [10 20 30 40 50 60 70 80 90]\n",
      " [11 22 33 44 55 66 77 88 99]\n",
      " [12 22 23 24 25 26 27 28 29]\n",
      " [15 25 35 45 55 65 75 85 95]\n",
      " [17 27 37 47 57 67 77 87 97]]\n"
     ]
    }
   ],
   "source": [
    "list_6x9 = [\n",
    "    [ 1,  2,  3,  4,  5,  6,  7,  8,  9],\n",
    "    [10, 20, 30, 40, 50, 60, 70, 80, 90],\n",
    "    [11, 22, 33, 44, 55, 66, 77, 88, 99],\n",
    "    [12, 22, 23, 24, 25, 26, 27, 28, 29],\n",
    "    [15, 25, 35, 45, 55, 65, 75, 85, 95],\n",
    "    [17, 27, 37, 47, 57, 67, 77, 87, 97]\n",
    "]\n",
    "\n",
    "a_2d_large = np.array( list_6x9 )\n",
    "print( a_2d_large )"
   ]
  },
  {
   "cell_type": "code",
   "execution_count": 44,
   "id": "36870f60-0b4e-43e7-aaa5-a6df202caefb",
   "metadata": {},
   "outputs": [
    {
     "name": "stdout",
     "output_type": "stream",
     "text": [
      "Dimensions = 2 | Order = (6, 9)\n"
     ]
    }
   ],
   "source": [
    "print( \"Dimensions =\", a_2d_large.ndim, \"| Order =\", a_2d_large.shape )"
   ]
  },
  {
   "cell_type": "code",
   "execution_count": 46,
   "id": "cbe8b6dd-8651-45de-8829-12955eb215d2",
   "metadata": {},
   "outputs": [
    {
     "name": "stdout",
     "output_type": "stream",
     "text": [
      "[[ 1  2  3  4]\n",
      " [10 20 30 40]\n",
      " [11 22 33 44]\n",
      " [12 22 23 24]]\n"
     ]
    }
   ],
   "source": [
    "# sub_mat = a_2d_large[ ::2, ::2 ]\n",
    "sub_mat = a_2d_large[ 0:4 , 0:4 ]\n",
    "\n",
    "print( sub_mat )"
   ]
  },
  {
   "cell_type": "code",
   "execution_count": 48,
   "id": "4e90800b-9f5b-4f7d-9ff1-61833f9dd255",
   "metadata": {},
   "outputs": [
    {
     "name": "stdout",
     "output_type": "stream",
     "text": [
      "[ 5 50 55 25 55]\n"
     ]
    }
   ],
   "source": [
    "# Select the column in which all the elements are divisible by 5\n",
    "\n",
    "print( a_2d_large[ :-1:, 4 ] )"
   ]
  },
  {
   "cell_type": "markdown",
   "id": "426783b2-4fd0-415e-a939-5ad4a0d7c700",
   "metadata": {},
   "source": [
    "## 10. Special value - numpy.nan:-\n",
    "--------------------------------------\n",
    "- In numpy, to fill a specific place with blank space, we place a special value there, which is `numpy.nan`\n",
    "- `numpy.nan` is not a value as such, and it denotes absence of any values.\n",
    "- `numpy.nan` evaluates to be False as a value. It is equivalent to `None` in Python, and `null` in other programming languages.\n",
    "- `numpy.nan` is a `float` type value, and thus **can be stored in an array whose datatype contains float values.**"
   ]
  },
  {
   "cell_type": "code",
   "execution_count": 52,
   "id": "c27307f7-9194-4318-8231-b80df7a90f3e",
   "metadata": {},
   "outputs": [
    {
     "name": "stdout",
     "output_type": "stream",
     "text": [
      "[[ 1.  2.  3.]\n",
      " [11. 22. 33.]]\n",
      "\n",
      "[[ 1.  2.  3.]\n",
      " [11. nan 33.]]\n"
     ]
    }
   ],
   "source": [
    "a = np.array( [ [1,2,3], [11,22,33] ], dtype=np.float32 )\n",
    "print( a , end=\"\\n\\n\")\n",
    "\n",
    "a[1][1] = np.nan\n",
    "print( a )"
   ]
  },
  {
   "cell_type": "markdown",
   "id": "5d9f372e-80d4-4e6f-89ed-6208c385d135",
   "metadata": {},
   "source": [
    "## 11. Creating an array of zeros - `numpy.zeros()`:\n",
    "------------------------------------------------------\n",
    "- `np.zeros()` return a Numpy array whose all the elements are 0.\n",
    "- **By default**, datatype of all elements will be `float`.\n",
    "- Takes integer / tuple as a parameter, which is the shape of the resulting array that we want. Ex:-\n",
    "    - np.zeros( (2,3) ) will give an array with all the values as 0, with 2 rows and 3 columns."
   ]
  },
  {
   "cell_type": "code",
   "execution_count": 53,
   "id": "bf13afee-6018-4579-af1e-2003284b5c28",
   "metadata": {},
   "outputs": [
    {
     "name": "stdout",
     "output_type": "stream",
     "text": [
      "[0. 0. 0. 0.] float64\n"
     ]
    }
   ],
   "source": [
    "a0 = np.zeros(4)\n",
    "\n",
    "print(a0, a0.dtype)"
   ]
  },
  {
   "cell_type": "code",
   "execution_count": 55,
   "id": "41afd47d-4d6d-46c6-a698-7437fbdfc7a7",
   "metadata": {},
   "outputs": [
    {
     "name": "stdout",
     "output_type": "stream",
     "text": [
      "[[0. 0.]\n",
      " [0. 0.]\n",
      " [0. 0.]\n",
      " [0. 0.]] float64\n"
     ]
    }
   ],
   "source": [
    "a0 = np.zeros( (4,2) )\n",
    "\n",
    "print(a0, a0.dtype)"
   ]
  },
  {
   "cell_type": "markdown",
   "id": "0b218a74-3f81-4973-8b56-23e8359f81e0",
   "metadata": {},
   "source": [
    "## 12. Creating an array of ones - `numpy.ones()`:\n",
    "------------------------------------------------------\n",
    "- `np.ones()` return a Numpy array whose all the elements are 1.\n",
    "- **By default**, datatype of all elements will be `float64`.\n",
    "- Takes integer / tuple as a parameter, which is the shape of the resulting array that we want. Ex:-\n",
    "    - np.ones( (2,3) ) will give an array with all the values as 1, with 2 rows and 3 columns."
   ]
  },
  {
   "cell_type": "code",
   "execution_count": 57,
   "id": "e1c639b3-f60a-428d-a2af-fe345cc8983b",
   "metadata": {},
   "outputs": [
    {
     "name": "stdout",
     "output_type": "stream",
     "text": [
      "[1. 1. 1. 1.] float64\n"
     ]
    }
   ],
   "source": [
    "a1 = np.ones(4)\n",
    "\n",
    "print(a1, a1.dtype ) "
   ]
  },
  {
   "cell_type": "code",
   "execution_count": 58,
   "id": "f48d7915-baca-4a2d-873f-9decbbb894b1",
   "metadata": {},
   "outputs": [
    {
     "name": "stdout",
     "output_type": "stream",
     "text": [
      "[[1. 1. 1. 1. 1. 1.]\n",
      " [1. 1. 1. 1. 1. 1.]\n",
      " [1. 1. 1. 1. 1. 1.]\n",
      " [1. 1. 1. 1. 1. 1.]\n",
      " [1. 1. 1. 1. 1. 1.]]\n"
     ]
    }
   ],
   "source": [
    "a1 = np.ones( (5,6) )\n",
    "\n",
    "print(a1)"
   ]
  },
  {
   "cell_type": "markdown",
   "id": "1232b76a-8f43-45b7-956e-1ad2590c3b85",
   "metadata": {},
   "source": [
    "## 13. Creating an array will all elements of same value - `numpy.full()`:\n",
    "-----------------------------------------------------------------------------\n",
    "- `np.full()` return a Numpy array whose all the elements are same.\n",
    "- Syntax : `numpy.full( <shape_of_array> , <element> )`\n",
    "- **By default**, datatype of all elements will be `int32`.\n",
    "- Takes integer / tuple as 1st parameter, which is the shape of the resulting array that we want. 2nd parameter will be the value of each element, which must be an integer or decimal number. Ex:-\n",
    "    - np.full( (2,3), 25 ) will give an array with all the values as 25, with 2 rows and 3 columns."
   ]
  },
  {
   "cell_type": "code",
   "execution_count": 60,
   "id": "8ea9c620-abce-4fa2-86a2-dc253edd95eb",
   "metadata": {},
   "outputs": [
    {
     "name": "stdout",
     "output_type": "stream",
     "text": [
      "[10 10 10 10 10 10 10] int32\n"
     ]
    }
   ],
   "source": [
    "ax = np.full( 7, 10 )\n",
    "\n",
    "print( ax, ax.dtype )"
   ]
  },
  {
   "cell_type": "code",
   "execution_count": 59,
   "id": "2ca47795-f81e-4367-9bd5-d3bac03224d3",
   "metadata": {},
   "outputs": [
    {
     "name": "stdout",
     "output_type": "stream",
     "text": [
      "[[25 25 25]\n",
      " [25 25 25]]\n"
     ]
    }
   ],
   "source": [
    "ax = np.full( (2,3), 25 )\n",
    "\n",
    "print( ax )"
   ]
  },
  {
   "cell_type": "markdown",
   "id": "431ff81f-a213-4795-a869-4d006cabfc60",
   "metadata": {},
   "source": [
    "## 14. Creating IDENTITY MATRIX - `numpy.identity()`:\n",
    "---------------------------------------------------------\n",
    "- Syntax : `numpy.identity( <num_rows/columns> , dtype )`\n",
    "- Takes 1st parameter as an integer, and always returns a square matrix (2D array with same rows and columns) with that many rows/columns.\n",
    "- **By default**, datatype of all elements will be `float64`.\n",
    "- <u><b>Identity Matrix</b>: A square matrix, whose all the elements along the principal diagonal is 1, rest all elements will be 0.</u>"
   ]
  },
  {
   "cell_type": "code",
   "execution_count": 61,
   "id": "25a5a02c-2bef-4821-ab50-aa03dee25a47",
   "metadata": {},
   "outputs": [
    {
     "name": "stdout",
     "output_type": "stream",
     "text": [
      "[[1. 0. 0.]\n",
      " [0. 1. 0.]\n",
      " [0. 0. 1.]] float64\n"
     ]
    }
   ],
   "source": [
    "ai = np.identity( 3 )\n",
    "\n",
    "print(ai, ai.dtype)"
   ]
  },
  {
   "cell_type": "code",
   "execution_count": 62,
   "id": "03226367-2ccd-43d5-968b-d8805ba49a6c",
   "metadata": {},
   "outputs": [
    {
     "name": "stdout",
     "output_type": "stream",
     "text": [
      "[[1 0 0 0 0]\n",
      " [0 1 0 0 0]\n",
      " [0 0 1 0 0]\n",
      " [0 0 0 1 0]\n",
      " [0 0 0 0 1]]\n"
     ]
    }
   ],
   "source": [
    "ai = np.identity(5, dtype=np.int32)\n",
    "print(ai)"
   ]
  },
  {
   "cell_type": "markdown",
   "id": "7a0f403a-9e14-4340-9382-45968aabcd4b",
   "metadata": {},
   "source": [
    "## 15. Creating an array of random values: `np.random.rand()` :\n",
    "----------------------------------------------------------------\n",
    "- Syntax : `np.random.rand( <num_elements_of_axis_n> , <num_elements_of_axis_(n-1)> , ... , <num_elements_of_axis_1> , <num_elements_of_axis_0> )`\n",
    "- Gives an array whose all elements are floating numbers betweenn 0 and 1.\n",
    "- Takes shape of array returned, in the parameter.\n",
    "- Single or multiple parameters may be passed, where each parameter must be a positive integer. **Parameter should not be a tuple.**\n",
    "- Number of parameters is equal to the number of dimensions of the resulting array."
   ]
  },
  {
   "cell_type": "code",
   "execution_count": 66,
   "id": "c49b2639-7ff9-4a04-9e5c-a936613169cb",
   "metadata": {},
   "outputs": [
    {
     "name": "stdout",
     "output_type": "stream",
     "text": [
      "[0.75599274 0.33329211 0.52791195]\n"
     ]
    }
   ],
   "source": [
    "ar = np.random.rand( 3 )\n",
    "print(ar)"
   ]
  },
  {
   "cell_type": "code",
   "execution_count": 68,
   "id": "8f601888-14e1-4792-b22f-0a5aa5874b8e",
   "metadata": {},
   "outputs": [
    {
     "name": "stdout",
     "output_type": "stream",
     "text": [
      "[[0.21398004 0.48365576 0.79672058 0.39409205 0.81284433]\n",
      " [0.52642404 0.59932113 0.4812573  0.54789801 0.49904331]\n",
      " [0.41106292 0.45514037 0.84751252 0.64492541 0.64734516]]\n"
     ]
    }
   ],
   "source": [
    "ar2 = np.random.rand( 3,5 )\n",
    "print(ar2)"
   ]
  },
  {
   "cell_type": "code",
   "execution_count": 75,
   "id": "1d6b6705-075b-4aa1-b424-86a011a10396",
   "metadata": {},
   "outputs": [
    {
     "name": "stdout",
     "output_type": "stream",
     "text": [
      "[[[0.30651528 0.98099589 0.8447457  0.72829167 0.40398309]\n",
      "  [0.03304626 0.84495743 0.0297162  0.08106454 0.59216787]\n",
      "  [0.48892606 0.9133818  0.50288565 0.87555131 0.10013466]]\n",
      "\n",
      " [[0.67239242 0.75142715 0.78033489 0.81189656 0.47157742]\n",
      "  [0.23890869 0.22008003 0.26632612 0.2603216  0.45377677]\n",
      "  [0.98877151 0.84649747 0.23254446 0.13977192 0.827909  ]]]\n"
     ]
    }
   ],
   "source": [
    "ar3 = np.random.rand(2,3,5)\n",
    "print(ar3)"
   ]
  },
  {
   "cell_type": "markdown",
   "id": "72c8edab-f84a-45b3-a2b9-7a51202c97d0",
   "metadata": {},
   "source": [
    "## 16. Creating an array of random values: \n",
    "## `np.random.randint( <min_int>=0(default) , <max_int> , size = <tuple_denoting_array_shape> )`\n",
    "-----------------------------------------------------------------------------------------------------------------------\n",
    "- Returns a numpy array with all the elements being integer.\n",
    "- <b> If only 1 positive integer is passed as parameter, all the integer will be between 0 and `max_int`(1st parameter), with the `max_int` not included.</b>\n",
    "    - Ex- `np.random.randint(8, size=(3,4))` : Give a (3,4) array, where all elements are between 0 to 8, 8 is excluded.\n",
    "<b> If 2 positive integers are passed as parameter, all the integer will be between `min_int`(1st parameter) and `max_int`(2nd parameter), with the `max_int` not included.</b>\n",
    "    - Ex- `np.random.randint(10, 15, size=(3,4))` : Give a (3,4) array, where all elements are between 10 to 15, 8 is excluded."
   ]
  },
  {
   "cell_type": "code",
   "execution_count": 78,
   "id": "3f0f9513-8d65-4495-bdc7-5e196d0e9068",
   "metadata": {},
   "outputs": [
    {
     "name": "stdout",
     "output_type": "stream",
     "text": [
      "[[7 4 4 0]\n",
      " [2 4 3 0]\n",
      " [4 6 5 1]\n",
      " [1 7 3 6]\n",
      " [0 2 7 6]]\n"
     ]
    }
   ],
   "source": [
    "ar = np.random.randint(8, size=(5,4))\n",
    "print(ar)"
   ]
  },
  {
   "cell_type": "code",
   "execution_count": 80,
   "id": "b33150cc-e38c-4ba5-bc4a-49725dca6e21",
   "metadata": {},
   "outputs": [
    {
     "name": "stdout",
     "output_type": "stream",
     "text": [
      "[[14 12 10 14 13 12]\n",
      " [14 11 13 12 14 13]\n",
      " [10 10 10 12 13 11]\n",
      " [12 14 14 13 14 12]\n",
      " [12 13 12 14 12 11]]\n"
     ]
    }
   ],
   "source": [
    "ar = np.random.randint( 10, 15, size=(5,6) )\n",
    "print(ar)"
   ]
  },
  {
   "cell_type": "markdown",
   "id": "d20f36ca-8726-42a4-9d23-3708e82354f2",
   "metadata": {},
   "source": [
    "<h1><center>More Properties and Operations</center></h1>\n",
    "<hr><hr>"
   ]
  },
  {
   "cell_type": "markdown",
   "id": "3f74e02a-156f-457a-a4f1-240630885088",
   "metadata": {},
   "source": [
    "## 1. Getting total number of elements:-\n",
    "-----------------------------------------"
   ]
  },
  {
   "cell_type": "code",
   "execution_count": 81,
   "id": "4e7c7ced-0312-4a04-b1d7-612516cc47b1",
   "metadata": {},
   "outputs": [
    {
     "name": "stdout",
     "output_type": "stream",
     "text": [
      "6\n"
     ]
    }
   ],
   "source": [
    "a = np.array([[1,2,3],[4,5,6]])\n",
    "print(a.size)"
   ]
  },
  {
   "cell_type": "markdown",
   "id": "fde47fa0-5253-4400-b1d5-4637a7ea3537",
   "metadata": {},
   "source": [
    "## 2. Arithmetic mean - `mean()` or `average()`:-\n",
    "- Arithmetic Mean is defined as (Sum of all elements of an array) / (Number of elements)"
   ]
  },
  {
   "cell_type": "code",
   "execution_count": 111,
   "id": "01ada457-163e-4413-8284-e12dffc80468",
   "metadata": {},
   "outputs": [
    {
     "name": "stdout",
     "output_type": "stream",
     "text": [
      "3.5\n",
      "3.5\n"
     ]
    }
   ],
   "source": [
    "a = np.array([[1,2,3],[4,5,6]])\n",
    "\n",
    "print( a.mean() )\n",
    "print( np.mean(a) )"
   ]
  },
  {
   "cell_type": "code",
   "execution_count": 113,
   "id": "f52c395d-8fa5-4589-8291-d4969932791d",
   "metadata": {},
   "outputs": [
    {
     "name": "stdout",
     "output_type": "stream",
     "text": [
      "3.5\n"
     ]
    }
   ],
   "source": [
    "a = np.array([[1,2,3],[4,5,6]])\n",
    "\n",
    "# print( a.average() )\n",
    "print( np.average(a) )"
   ]
  },
  {
   "cell_type": "code",
   "execution_count": 83,
   "id": "94517e51-7dcf-49d9-a665-51a7a5705077",
   "metadata": {},
   "outputs": [
    {
     "name": "stdout",
     "output_type": "stream",
     "text": [
      "1.  3.5\n",
      "2.  3.5\n"
     ]
    }
   ],
   "source": [
    "print(\"1. \", a.mean() )\n",
    "print(\"2. \", a.sum()/a.size)"
   ]
  },
  {
   "cell_type": "markdown",
   "id": "d760a3fa-8d87-44db-8ef6-fa573859361a",
   "metadata": {},
   "source": [
    "## 3. Getting Principal Diagonal Elements - `diagonal()`:-\n",
    "- <b>Principal Diagonal :</b> The diagonal that starts from **Top-Left to Bottom-Right**.\n",
    "- Applicable for non-square matrices as well."
   ]
  },
  {
   "cell_type": "code",
   "execution_count": 87,
   "id": "fac4f6e4-c012-4928-8893-00fe6ffec529",
   "metadata": {},
   "outputs": [
    {
     "name": "stdout",
     "output_type": "stream",
     "text": [
      "[1 5 9]\n"
     ]
    }
   ],
   "source": [
    "l = [\n",
    "    [ 1, 2, 3],\n",
    "    [ 4, 5, 6],\n",
    "    [ 7, 8, 9]\n",
    "]\n",
    "\n",
    "a = np.array(l)\n",
    "print( a.diagonal() )"
   ]
  },
  {
   "cell_type": "code",
   "execution_count": 88,
   "id": "524f7f44-ba06-4e2b-8f98-1bd4b0be53f1",
   "metadata": {},
   "outputs": [
    {
     "name": "stdout",
     "output_type": "stream",
     "text": [
      "[1 5 9]\n"
     ]
    }
   ],
   "source": [
    "l = [\n",
    "    [ 1, 2, 3, 4],\n",
    "    [ 4, 5, 6, 5],\n",
    "    [ 7, 8, 9, 6]\n",
    "]\n",
    "\n",
    "a = np.array(l)\n",
    "print( a.diagonal() )"
   ]
  },
  {
   "cell_type": "markdown",
   "id": "cda7055f-9109-4877-95f0-9ce382c5499d",
   "metadata": {},
   "source": [
    "## 4. Getting Trace of a matrix: `trace()`:\n",
    "- Trance of a matrix is the sum of its principal diagonal elements."
   ]
  },
  {
   "cell_type": "code",
   "execution_count": 98,
   "id": "e72540d2-720f-44f7-b695-38041689ee57",
   "metadata": {},
   "outputs": [
    {
     "name": "stdout",
     "output_type": "stream",
     "text": [
      "15\n"
     ]
    }
   ],
   "source": [
    "l = [\n",
    "    [ 1, 2, 3],\n",
    "    [ 4, 5, 6],\n",
    "    [ 7, 8, 9]\n",
    "]\n",
    "\n",
    "a = np.array(l)\n",
    "print( a.trace() )"
   ]
  },
  {
   "cell_type": "code",
   "execution_count": 99,
   "id": "a79cf1f4-350f-4f74-ba32-001d77f5501d",
   "metadata": {},
   "outputs": [
    {
     "name": "stdout",
     "output_type": "stream",
     "text": [
      "15 15\n"
     ]
    }
   ],
   "source": [
    "print( a.trace(), a.diagonal().sum() )"
   ]
  },
  {
   "cell_type": "markdown",
   "id": "f29b2d9a-f9ce-47ce-9277-77f8fc462db2",
   "metadata": {},
   "source": [
    "## 5. Largest and Smallest values in entire array: `max()` and `min()`, or `np.min()` and `np.max()`:"
   ]
  },
  {
   "cell_type": "code",
   "execution_count": 89,
   "id": "9b4adbee-ba2d-406e-bd31-aa5acfd2e1e0",
   "metadata": {},
   "outputs": [
    {
     "name": "stdout",
     "output_type": "stream",
     "text": [
      "Max = 9 | Min = 1\n"
     ]
    }
   ],
   "source": [
    "l = [\n",
    "    [ 1, 2, 3, 4],\n",
    "    [ 4, 5, 6, 5],\n",
    "    [ 7, 8, 9, 6]\n",
    "]\n",
    "\n",
    "a = np.array(l)\n",
    "\n",
    "print(f\"Max = {a.max()} | Min = {a.min()}\")"
   ]
  },
  {
   "cell_type": "code",
   "execution_count": 110,
   "id": "4995b48e-af0d-46df-ba0d-b7737fb923e3",
   "metadata": {},
   "outputs": [
    {
     "name": "stdout",
     "output_type": "stream",
     "text": [
      "Max = 9 | Min = 1\n"
     ]
    }
   ],
   "source": [
    "l = [\n",
    "    [ 1, 2, 3, 4],\n",
    "    [ 4, 5, 6, 5],\n",
    "    [ 7, 8, 9, 6]\n",
    "]\n",
    "\n",
    "a = np.array(l)\n",
    "\n",
    "print(f\"Max = {np.max(a)} | Min = {np.min(a)}\")"
   ]
  },
  {
   "cell_type": "markdown",
   "id": "bb30c2f8-444f-4492-a84c-4f5c0757334f",
   "metadata": {},
   "source": [
    "## 6. Changing the shape of existing array: `reshape()`:\n",
    "- For `reshape()` to be applicable, the number of elements in Initial and Reshaped arrays must be same, else error is thrown.\n",
    "- Returns the reshaped array, and does not modifies the original array."
   ]
  },
  {
   "cell_type": "code",
   "execution_count": 90,
   "id": "2e251abf-702f-419d-98fc-8bf77dc081c9",
   "metadata": {},
   "outputs": [
    {
     "name": "stdout",
     "output_type": "stream",
     "text": [
      "[[1 2 1 4]\n",
      " [2 4 6 8]\n",
      " [3 6 9 5]] (3, 4)\n"
     ]
    }
   ],
   "source": [
    "l = [\n",
    "    [1,2,1,4],\n",
    "    [2,4,6,8],\n",
    "    [3,6,9,5]\n",
    "]\n",
    "\n",
    "a = np.array(l)\n",
    "\n",
    "print(a, a.shape)"
   ]
  },
  {
   "cell_type": "code",
   "execution_count": 94,
   "id": "21306058-6be6-46ee-8091-8ba405ac4888",
   "metadata": {},
   "outputs": [
    {
     "name": "stdout",
     "output_type": "stream",
     "text": [
      "[[1 2]\n",
      " [1 4]\n",
      " [2 4]\n",
      " [6 8]\n",
      " [3 6]\n",
      " [9 5]] (6, 2)\n"
     ]
    }
   ],
   "source": [
    "a2 = a.reshape((6,2))\n",
    "\n",
    "print(a2, a2.shape)"
   ]
  },
  {
   "cell_type": "code",
   "execution_count": 93,
   "id": "0ac31e34-c055-452c-8276-2f15189fe8fd",
   "metadata": {},
   "outputs": [
    {
     "ename": "ValueError",
     "evalue": "cannot reshape array of size 12 into shape (5,2)",
     "output_type": "error",
     "traceback": [
      "\u001b[1;31m---------------------------------------------------------------------------\u001b[0m",
      "\u001b[1;31mValueError\u001b[0m                                Traceback (most recent call last)",
      "Cell \u001b[1;32mIn[93], line 2\u001b[0m\n\u001b[0;32m      1\u001b[0m \u001b[38;5;66;03m# This will throw an error\u001b[39;00m\n\u001b[1;32m----> 2\u001b[0m \u001b[38;5;28mprint\u001b[39m( \u001b[43ma\u001b[49m\u001b[38;5;241;43m.\u001b[39;49m\u001b[43mreshape\u001b[49m\u001b[43m(\u001b[49m\u001b[43m(\u001b[49m\u001b[38;5;241;43m5\u001b[39;49m\u001b[43m,\u001b[49m\u001b[38;5;241;43m2\u001b[39;49m\u001b[43m)\u001b[49m\u001b[43m)\u001b[49m )\n",
      "\u001b[1;31mValueError\u001b[0m: cannot reshape array of size 12 into shape (5,2)"
     ]
    }
   ],
   "source": [
    "# This will throw an error\n",
    "print( a.reshape((5,2)) )"
   ]
  },
  {
   "cell_type": "markdown",
   "id": "5916ffcb-af08-49f5-ae69-ba103e43fdeb",
   "metadata": {},
   "source": [
    "## 7. Getting Transpose of a matrix: `transpose()`"
   ]
  },
  {
   "cell_type": "code",
   "execution_count": 95,
   "id": "97c992b5-0356-459f-94bf-0b6a65b7d3c2",
   "metadata": {},
   "outputs": [],
   "source": [
    "l = [\n",
    "    [1, 2, 1, 4, 5],\n",
    "    [2, 4, 6, 8, 7],\n",
    "    [3, 6, 9, 5, 2]\n",
    "]\n",
    "\n",
    "a = np.array(l)"
   ]
  },
  {
   "cell_type": "code",
   "execution_count": 97,
   "id": "b94edd91-6d4f-4b50-baa9-2ef89abc1bc4",
   "metadata": {},
   "outputs": [
    {
     "name": "stdout",
     "output_type": "stream",
     "text": [
      "[[1 2 1 4 5]\n",
      " [2 4 6 8 7]\n",
      " [3 6 9 5 2]]\n",
      "===============\n",
      "[[1 2 3]\n",
      " [2 4 6]\n",
      " [1 6 9]\n",
      " [4 8 5]\n",
      " [5 7 2]]\n"
     ]
    }
   ],
   "source": [
    "a_trans = a.transpose()\n",
    "\n",
    "print(a, a_trans, sep=\"\\n===============\\n\")"
   ]
  },
  {
   "cell_type": "markdown",
   "id": "a6e228d3-6fd6-445b-8680-3dfb3e9adc4e",
   "metadata": {},
   "source": [
    "## 8. MATRIX OPERATIONS:-"
   ]
  },
  {
   "cell_type": "markdown",
   "id": "86ae8e3a-5f88-4468-bf22-e20c710c16c9",
   "metadata": {},
   "source": [
    "### 1. Addition:-"
   ]
  },
  {
   "cell_type": "code",
   "execution_count": 102,
   "id": "47f385e5-ba3a-42db-ae6c-905919c6a2f7",
   "metadata": {},
   "outputs": [
    {
     "name": "stdout",
     "output_type": "stream",
     "text": [
      "[[ 5  3 12]\n",
      " [ 5  6  3]\n",
      " [10  2 12]]\n"
     ]
    }
   ],
   "source": [
    "a1 = np.array([\n",
    "    [1,2,3],\n",
    "    [3,2,1],\n",
    "    [9,2,4]\n",
    "])\n",
    "\n",
    "a2 = np.array([\n",
    "    [4,1,9],\n",
    "    [2,4,2],\n",
    "    [1,0,8]\n",
    "])\n",
    "\n",
    "b = a1 + a2\n",
    "\n",
    "print( b )"
   ]
  },
  {
   "cell_type": "markdown",
   "id": "a89a1f9c-9edc-42fc-b9aa-55d7b0af9fe0",
   "metadata": {},
   "source": [
    "### 2. Subtraction:-"
   ]
  },
  {
   "cell_type": "code",
   "execution_count": 103,
   "id": "4d8d2216-3df4-484d-962d-c5f6cd6ecca5",
   "metadata": {},
   "outputs": [
    {
     "name": "stdout",
     "output_type": "stream",
     "text": [
      "[[-3  1 -6]\n",
      " [ 1 -2 -1]\n",
      " [ 8  2 -4]]\n"
     ]
    }
   ],
   "source": [
    "a1 = np.array([\n",
    "    [1,2,3],\n",
    "    [3,2,1],\n",
    "    [9,2,4]\n",
    "])\n",
    "\n",
    "a2 = np.array([\n",
    "    [4,1,9],\n",
    "    [2,4,2],\n",
    "    [1,0,8]\n",
    "])\n",
    "\n",
    "b = a1 - a2\n",
    "\n",
    "print( b )"
   ]
  },
  {
   "cell_type": "markdown",
   "id": "fe61a9d1-b27f-4748-8ccc-449e42a37c01",
   "metadata": {},
   "source": [
    "### 3. Corresponding element multiplication:-"
   ]
  },
  {
   "cell_type": "code",
   "execution_count": 104,
   "id": "2dd87faf-c36a-4f44-9461-d7a16c356d69",
   "metadata": {},
   "outputs": [
    {
     "name": "stdout",
     "output_type": "stream",
     "text": [
      "[[ 4  2 27]\n",
      " [ 6  8  2]\n",
      " [ 9  0 32]]\n"
     ]
    }
   ],
   "source": [
    "a1 = np.array([\n",
    "    [1,2,3],\n",
    "    [3,2,1],\n",
    "    [9,2,4]\n",
    "])\n",
    "\n",
    "a2 = np.array([\n",
    "    [4,1,9],\n",
    "    [2,4,2],\n",
    "    [1,0,8]\n",
    "])\n",
    "\n",
    "b = a1 * a2\n",
    "\n",
    "print( b )"
   ]
  },
  {
   "cell_type": "markdown",
   "id": "7e67b22f-bf10-4b14-bb43-9b58471c1fc7",
   "metadata": {},
   "source": [
    "### 4. Corresponding element division:-\n",
    "- In this case, the matrix as denominator should have no element as 0."
   ]
  },
  {
   "cell_type": "code",
   "execution_count": 106,
   "id": "72a548cd-f079-4b6e-84b5-f60247d8c1b3",
   "metadata": {},
   "outputs": [
    {
     "name": "stdout",
     "output_type": "stream",
     "text": [
      "[[0.25       2.         0.33333333]\n",
      " [1.5        0.5        0.5       ]\n",
      " [9.         0.2        0.5       ]]\n"
     ]
    }
   ],
   "source": [
    "a1 = np.array([\n",
    "    [1,2,3],\n",
    "    [3,2,1],\n",
    "    [9,2,4]\n",
    "])\n",
    "\n",
    "a2 = np.array([\n",
    "    [4,1,9],\n",
    "    [2,4,2],\n",
    "    [1,10,8]\n",
    "])\n",
    "\n",
    "b = a1 / a2\n",
    "\n",
    "print( b )"
   ]
  },
  {
   "cell_type": "markdown",
   "id": "2c670d26-9564-476c-8717-5365044f88e4",
   "metadata": {},
   "source": [
    "### 5. Adding, Subtracting, Multiplying, Dividing constant from each array element:"
   ]
  },
  {
   "cell_type": "code",
   "execution_count": 107,
   "id": "3813f71f-6f8b-413e-a4fb-08dd82a35836",
   "metadata": {},
   "outputs": [
    {
     "name": "stdout",
     "output_type": "stream",
     "text": [
      "[[ 6  7  8]\n",
      " [ 8  7  6]\n",
      " [14  7  9]]\n",
      "=========================\n",
      "[[-5 -4 -3]\n",
      " [-3 -4 -5]\n",
      " [ 3 -4 -2]]\n",
      "=========================\n",
      "[[10 20 30]\n",
      " [30 20 10]\n",
      " [90 20 40]]\n",
      "=========================\n",
      "[[0.5 1.  1.5]\n",
      " [1.5 1.  0.5]\n",
      " [4.5 1.  2. ]]\n",
      "=========================\n",
      "[[0 1 1]\n",
      " [1 1 0]\n",
      " [4 1 2]]\n"
     ]
    }
   ],
   "source": [
    "a1 = np.array([\n",
    "    [1,2,3],\n",
    "    [3,2,1],\n",
    "    [9,2,4]\n",
    "])\n",
    "\n",
    "print(\n",
    "    a1 + 5,\n",
    "    a1 - 6,\n",
    "    a1 * 10,\n",
    "    a1 / 2,\n",
    "    a1 // 2,\n",
    "    sep = \"\\n=========================\\n\"\n",
    ")"
   ]
  },
  {
   "cell_type": "markdown",
   "id": "d7506570-2181-4801-a83e-ccfedfa9fef6",
   "metadata": {},
   "source": [
    "## 6. Performing MATRIX MULTIPLICATION - `numpy.matmul( <array1> , <array2> )`:"
   ]
  },
  {
   "cell_type": "code",
   "execution_count": 108,
   "id": "83b93b02-d6d0-4092-b58c-c1875cf02145",
   "metadata": {},
   "outputs": [
    {
     "name": "stdout",
     "output_type": "stream",
     "text": [
      "[[ 11  39  37]\n",
      " [ 17  21  39]\n",
      " [ 44  57 117]]\n"
     ]
    }
   ],
   "source": [
    "a1 = np.array([\n",
    "    [1,2,3],\n",
    "    [3,2,1],\n",
    "    [9,2,4]\n",
    "])\n",
    "\n",
    "a2 = np.array([\n",
    "    [4,1,9],\n",
    "    [2,4,2],\n",
    "    [1,10,8]\n",
    "])\n",
    "\n",
    "result = np.matmul( a1, a2 )\n",
    "print( result )"
   ]
  },
  {
   "cell_type": "markdown",
   "id": "d8e87c15-fa87-4657-b155-de626cd771de",
   "metadata": {},
   "source": [
    "## 7. DETERMINANT of a SQUARE MATRIX - `numpy.linalg.det( <matrix )`:"
   ]
  },
  {
   "cell_type": "code",
   "execution_count": 109,
   "id": "ec2535ec-4ff0-4001-817a-495c37e2ab00",
   "metadata": {},
   "outputs": [
    {
     "name": "stdout",
     "output_type": "stream",
     "text": [
      "-36.000000000000014\n"
     ]
    }
   ],
   "source": [
    "a1 = np.array([\n",
    "    [1,2,3],\n",
    "    [3,2,1],\n",
    "    [9,2,4]\n",
    "])\n",
    "\n",
    "det_a1 = np.linalg.det( a1 )\n",
    "print( det_a1 )"
   ]
  },
  {
   "cell_type": "markdown",
   "id": "9db85bf8-ecbf-463d-a002-70e5a77f2c8a",
   "metadata": {},
   "source": [
    "## 8. Standard Deviation of all the elements of an array: `np.std( <array> )`\n",
    "<hr><br><br>\n",
    "<img src=\"./images/variance_stddev.jpg\">"
   ]
  },
  {
   "cell_type": "code",
   "execution_count": 114,
   "id": "e136d147-f0c8-404f-9ebe-342a24e2e1c0",
   "metadata": {},
   "outputs": [
    {
     "name": "stdout",
     "output_type": "stream",
     "text": [
      "2.309401076758503\n"
     ]
    }
   ],
   "source": [
    "a1 = np.array([\n",
    "    [1,2,3],\n",
    "    [3,2,1],\n",
    "    [9,2,4]\n",
    "])\n",
    "\n",
    "std_dev = np.std( a1 )\n",
    "print(std_dev)"
   ]
  },
  {
   "cell_type": "markdown",
   "id": "68b2111a-d391-42cb-afa9-481aa0c4255c",
   "metadata": {},
   "source": [
    "## 9. Variance of all the elements of an array: `np.var( <array> )`\n",
    "- Variance = (Standard Deviation) ** 2"
   ]
  },
  {
   "cell_type": "code",
   "execution_count": 115,
   "id": "5d140a5f-0020-481b-bff3-e8382e3be823",
   "metadata": {},
   "outputs": [
    {
     "name": "stdout",
     "output_type": "stream",
     "text": [
      "5.333333333333333\n"
     ]
    }
   ],
   "source": [
    "a1 = np.array([\n",
    "    [1,2,3],\n",
    "    [3,2,1],\n",
    "    [9,2,4]\n",
    "])\n",
    "\n",
    "var = np.var( a1 )\n",
    "print(var)"
   ]
  },
  {
   "cell_type": "markdown",
   "id": "298d10ca-d3d8-4039-99a2-2a4b860b7edb",
   "metadata": {},
   "source": [
    "## 10. Generating array from values in a text file:\n",
    "## `numpy.genfromtxt( <file_path> , delimiter = \"<character_sequence>\" )`:\n",
    "- By default, datatype of elements will be `float64`"
   ]
  },
  {
   "cell_type": "code",
   "execution_count": 116,
   "id": "9411dfad-0782-4bd4-972f-57b9f37e70f2",
   "metadata": {},
   "outputs": [
    {
     "name": "stdout",
     "output_type": "stream",
     "text": [
      "[ 10.  20.  30.  40.  50.  60.  70.  80.  90. 100.]\n"
     ]
    }
   ],
   "source": [
    "arr = np.genfromtxt( \"./data/01_numbers.txt\", delimiter=',' )\n",
    "print( arr )"
   ]
  },
  {
   "cell_type": "code",
   "execution_count": 117,
   "id": "e947018a-400c-4f17-8b9c-4febbb6ebc7d",
   "metadata": {},
   "outputs": [
    {
     "data": {
      "text/plain": [
       "dtype('float64')"
      ]
     },
     "execution_count": 117,
     "metadata": {},
     "output_type": "execute_result"
    }
   ],
   "source": [
    "arr.dtype"
   ]
  },
  {
   "cell_type": "code",
   "execution_count": null,
   "id": "02ede1af-0f33-4cc9-9519-3c5cd0cc7e08",
   "metadata": {},
   "outputs": [],
   "source": []
  }
 ],
 "metadata": {
  "kernelspec": {
   "display_name": "Python 3 (ipykernel)",
   "language": "python",
   "name": "python3"
  },
  "language_info": {
   "codemirror_mode": {
    "name": "ipython",
    "version": 3
   },
   "file_extension": ".py",
   "mimetype": "text/x-python",
   "name": "python",
   "nbconvert_exporter": "python",
   "pygments_lexer": "ipython3",
   "version": "3.10.6"
  }
 },
 "nbformat": 4,
 "nbformat_minor": 5
}
