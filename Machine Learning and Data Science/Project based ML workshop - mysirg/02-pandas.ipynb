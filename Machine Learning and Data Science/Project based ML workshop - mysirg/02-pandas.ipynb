{
 "cells": [
  {
   "cell_type": "markdown",
   "id": "81d24b1e-1613-4e51-a6c0-a5fb5dc36964",
   "metadata": {},
   "source": [
    "# PANDAS :\n",
    "-----------\n",
    "2 main datastructures:\n",
    "- Series\n",
    "- DataFrames"
   ]
  },
  {
   "cell_type": "code",
   "execution_count": 1,
   "id": "d1bd0702-e74c-45c1-baa5-c005df9edcd7",
   "metadata": {},
   "outputs": [],
   "source": [
    "import pandas as pd\n",
    "import numpy as np"
   ]
  },
  {
   "cell_type": "markdown",
   "id": "e7fb9ebc-8b56-466f-a702-35eee427b786",
   "metadata": {},
   "source": [
    "<center><h1>Pandas Series():</h1></center>\n",
    "<hr>"
   ]
  },
  {
   "cell_type": "markdown",
   "id": "135ec093-3e9b-445f-a0a0-94cbe70db823",
   "metadata": {},
   "source": [
    "Can be created using:\n",
    "- Scalar values: values in list, tuple. Index if not passed, starts from 0, else the indexes are the ones in the sequence passed as 2nd parameter.\n",
    "- Python dictionary. The keys becomes index, and values becomes values.\n",
    "- Numpy ndarray"
   ]
  },
  {
   "cell_type": "markdown",
   "id": "b2b1cef1-c2b3-466d-bb92-055c75657066",
   "metadata": {},
   "source": [
    "## Created from Scalar Values"
   ]
  },
  {
   "cell_type": "markdown",
   "id": "c32078ef-b8a4-4145-9e94-eb9571d2fa23",
   "metadata": {},
   "source": [
    "### 1. Creating Series without index:"
   ]
  },
  {
   "cell_type": "code",
   "execution_count": 2,
   "id": "ffce81b0-5791-412a-8689-582e5523f8ba",
   "metadata": {},
   "outputs": [
    {
     "name": "stdout",
     "output_type": "stream",
     "text": [
      "0         Kolkata\n",
      "1        Durgapur\n",
      "2    Chittaranjan\n",
      "3      Jalpaiguri\n",
      "dtype: object\n"
     ]
    }
   ],
   "source": [
    "cities = [\"Kolkata\", \"Durgapur\", \"Chittaranjan\", \"Jalpaiguri\"]\n",
    "\n",
    "a = pd.Series(cities)\n",
    "print(a)"
   ]
  },
  {
   "cell_type": "markdown",
   "id": "8905cc0c-00d5-4a64-b22d-360271f4a901",
   "metadata": {},
   "source": [
    "### 2. Creating Series with index:"
   ]
  },
  {
   "cell_type": "code",
   "execution_count": 3,
   "id": "a64df55e-974e-43ef-b07f-af7e89d3093c",
   "metadata": {},
   "outputs": [
    {
     "name": "stdout",
     "output_type": "stream",
     "text": [
      "k         Kolkata\n",
      "d        Durgapur\n",
      "c    Chittaranjan\n",
      "j      Jalpaiguri\n",
      "dtype: object\n"
     ]
    }
   ],
   "source": [
    "cities = [\"Kolkata\", \"Durgapur\", \"Chittaranjan\", \"Jalpaiguri\"]\n",
    "index = [\"k\", \"d\", \"c\", \"j\"]\n",
    "\n",
    "b = pd.Series( cities, index )\n",
    "print(b)"
   ]
  },
  {
   "cell_type": "markdown",
   "id": "59c5744d-707f-43cd-b133-bb8edf7343b5",
   "metadata": {},
   "source": [
    "- Same index can get repeated multiple times (inlike Python dictionary)"
   ]
  },
  {
   "cell_type": "code",
   "execution_count": 4,
   "id": "983bfbe7-0f62-426f-a41f-cd3abb63bb82",
   "metadata": {},
   "outputs": [
    {
     "name": "stdout",
     "output_type": "stream",
     "text": [
      "k         Kolkata\n",
      "d        Durgapur\n",
      "c    Chittaranjan\n",
      "j      Jalpaiguri\n",
      "k            Kota\n",
      "dtype: object\n"
     ]
    }
   ],
   "source": [
    "cities = [\"Kolkata\", \"Durgapur\", \"Chittaranjan\", \"Jalpaiguri\", \"Kota\"]\n",
    "index = [\"k\", \"d\", \"c\", \"j\", \"k\"]\n",
    "\n",
    "b = pd.Series( cities, index )\n",
    "print(b)"
   ]
  },
  {
   "cell_type": "code",
   "execution_count": 5,
   "id": "72449bac-c257-4adc-bb62-2dfe4345732d",
   "metadata": {},
   "outputs": [
    {
     "name": "stdout",
     "output_type": "stream",
     "text": [
      "0    10\n",
      "1    20\n",
      "2    30\n",
      "3    40\n",
      "dtype: int64\n"
     ]
    }
   ],
   "source": [
    "a = pd.Series( (10,20,30,40) )\n",
    "print( a )"
   ]
  },
  {
   "cell_type": "code",
   "execution_count": 6,
   "id": "4b77cfa6-9c41-420a-a081-a46b3f844c25",
   "metadata": {},
   "outputs": [
    {
     "name": "stdout",
     "output_type": "stream",
     "text": [
      "0       10\n",
      "1       20\n",
      "2     30.5\n",
      "3    Hello\n",
      "4       50\n",
      "dtype: object\n"
     ]
    }
   ],
   "source": [
    "a = pd.Series( (10,20,30.5,\"Hello\",50) )\n",
    "print( a )"
   ]
  },
  {
   "cell_type": "markdown",
   "id": "ad283acf-e0c0-44af-add7-96ba09aae67d",
   "metadata": {},
   "source": [
    "## Created from Python Dictionary:"
   ]
  },
  {
   "cell_type": "code",
   "execution_count": 8,
   "id": "0b58b2d6-aaef-408a-ad32-8778e6a8cb9e",
   "metadata": {},
   "outputs": [
    {
     "name": "stdout",
     "output_type": "stream",
     "text": [
      "21    Debanjan\n",
      "11        Atul\n",
      "24        Anol\n",
      "dtype: object\n"
     ]
    }
   ],
   "source": [
    "data_dict = {21: \"Debanjan\", 11: \"Atul\", 24: \"Anol\"}\n",
    "\n",
    "s = pd.Series( data_dict )\n",
    "print(s)"
   ]
  },
  {
   "cell_type": "markdown",
   "id": "afeccfb3-02c9-48d5-96e0-7ab050842b83",
   "metadata": {},
   "source": [
    "## Created from Numpy Array"
   ]
  },
  {
   "cell_type": "code",
   "execution_count": 10,
   "id": "668b62f1-1bf0-40d6-b364-73de3fb8726e",
   "metadata": {},
   "outputs": [
    {
     "name": "stdout",
     "output_type": "stream",
     "text": [
      "0          [[1, 2, 3], [4, 5, 6]]\n",
      "1    [[11, 22, 33], [44, 55, 66]]\n",
      "dtype: object\n"
     ]
    }
   ],
   "source": [
    "a1 = np.array([\n",
    "    [1,2,3],\n",
    "    [4,5,6]\n",
    "])\n",
    "\n",
    "a2 = np.array([\n",
    "    [11,22,33],\n",
    "    [44,55,66]\n",
    "])\n",
    "\n",
    "data = a1,a2\n",
    "\n",
    "s = pd.Series(data)\n",
    "print(s)"
   ]
  },
  {
   "cell_type": "markdown",
   "id": "48cbd54b-a6f8-4e2f-aaad-f1f0abf556a5",
   "metadata": {},
   "source": [
    "- Here, a tuple is considered as a scalar value, thus a object.\n",
    "- But, if we pass an individual 2D array, it will not make it 2 1D array with index 0 and 1. Rather, will throw an error"
   ]
  },
  {
   "cell_type": "code",
   "execution_count": 11,
   "id": "476ec24f-860f-4091-8bfa-36f62f38bb37",
   "metadata": {},
   "outputs": [
    {
     "ename": "ValueError",
     "evalue": "Data must be 1-dimensional, got ndarray of shape (2, 3) instead",
     "output_type": "error",
     "traceback": [
      "\u001b[1;31m---------------------------------------------------------------------------\u001b[0m",
      "\u001b[1;31mValueError\u001b[0m                                Traceback (most recent call last)",
      "Cell \u001b[1;32mIn[11], line 6\u001b[0m\n\u001b[0;32m      1\u001b[0m a1 \u001b[38;5;241m=\u001b[39m np\u001b[38;5;241m.\u001b[39marray([\n\u001b[0;32m      2\u001b[0m     [\u001b[38;5;241m1\u001b[39m,\u001b[38;5;241m2\u001b[39m,\u001b[38;5;241m3\u001b[39m],\n\u001b[0;32m      3\u001b[0m     [\u001b[38;5;241m4\u001b[39m,\u001b[38;5;241m5\u001b[39m,\u001b[38;5;241m6\u001b[39m]\n\u001b[0;32m      4\u001b[0m ])\n\u001b[1;32m----> 6\u001b[0m s \u001b[38;5;241m=\u001b[39m \u001b[43mpd\u001b[49m\u001b[38;5;241;43m.\u001b[39;49m\u001b[43mSeries\u001b[49m\u001b[43m(\u001b[49m\u001b[43ma1\u001b[49m\u001b[43m)\u001b[49m\n\u001b[0;32m      7\u001b[0m \u001b[38;5;28mprint\u001b[39m(s)\n",
      "File \u001b[1;32mE:\\Programs & Codes\\Data Science\\ds_venv\\lib\\site-packages\\pandas\\core\\series.py:512\u001b[0m, in \u001b[0;36mSeries.__init__\u001b[1;34m(self, data, index, dtype, name, copy, fastpath)\u001b[0m\n\u001b[0;32m    510\u001b[0m         data \u001b[38;5;241m=\u001b[39m data\u001b[38;5;241m.\u001b[39mcopy()\n\u001b[0;32m    511\u001b[0m \u001b[38;5;28;01melse\u001b[39;00m:\n\u001b[1;32m--> 512\u001b[0m     data \u001b[38;5;241m=\u001b[39m \u001b[43msanitize_array\u001b[49m\u001b[43m(\u001b[49m\u001b[43mdata\u001b[49m\u001b[43m,\u001b[49m\u001b[43m \u001b[49m\u001b[43mindex\u001b[49m\u001b[43m,\u001b[49m\u001b[43m \u001b[49m\u001b[43mdtype\u001b[49m\u001b[43m,\u001b[49m\u001b[43m \u001b[49m\u001b[43mcopy\u001b[49m\u001b[43m)\u001b[49m\n\u001b[0;32m    514\u001b[0m     manager \u001b[38;5;241m=\u001b[39m get_option(\u001b[38;5;124m\"\u001b[39m\u001b[38;5;124mmode.data_manager\u001b[39m\u001b[38;5;124m\"\u001b[39m)\n\u001b[0;32m    515\u001b[0m     \u001b[38;5;28;01mif\u001b[39;00m manager \u001b[38;5;241m==\u001b[39m \u001b[38;5;124m\"\u001b[39m\u001b[38;5;124mblock\u001b[39m\u001b[38;5;124m\"\u001b[39m:\n",
      "File \u001b[1;32mE:\\Programs & Codes\\Data Science\\ds_venv\\lib\\site-packages\\pandas\\core\\construction.py:646\u001b[0m, in \u001b[0;36msanitize_array\u001b[1;34m(data, index, dtype, copy, allow_2d)\u001b[0m\n\u001b[0;32m    643\u001b[0m             subarr \u001b[38;5;241m=\u001b[39m cast(np\u001b[38;5;241m.\u001b[39mndarray, subarr)\n\u001b[0;32m    644\u001b[0m             subarr \u001b[38;5;241m=\u001b[39m maybe_infer_to_datetimelike(subarr)\n\u001b[1;32m--> 646\u001b[0m subarr \u001b[38;5;241m=\u001b[39m \u001b[43m_sanitize_ndim\u001b[49m\u001b[43m(\u001b[49m\u001b[43msubarr\u001b[49m\u001b[43m,\u001b[49m\u001b[43m \u001b[49m\u001b[43mdata\u001b[49m\u001b[43m,\u001b[49m\u001b[43m \u001b[49m\u001b[43mdtype\u001b[49m\u001b[43m,\u001b[49m\u001b[43m \u001b[49m\u001b[43mindex\u001b[49m\u001b[43m,\u001b[49m\u001b[43m \u001b[49m\u001b[43mallow_2d\u001b[49m\u001b[38;5;241;43m=\u001b[39;49m\u001b[43mallow_2d\u001b[49m\u001b[43m)\u001b[49m\n\u001b[0;32m    648\u001b[0m \u001b[38;5;28;01mif\u001b[39;00m \u001b[38;5;28misinstance\u001b[39m(subarr, np\u001b[38;5;241m.\u001b[39mndarray):\n\u001b[0;32m    649\u001b[0m     \u001b[38;5;66;03m# at this point we should have dtype be None or subarr.dtype == dtype\u001b[39;00m\n\u001b[0;32m    650\u001b[0m     dtype \u001b[38;5;241m=\u001b[39m cast(np\u001b[38;5;241m.\u001b[39mdtype, dtype)\n",
      "File \u001b[1;32mE:\\Programs & Codes\\Data Science\\ds_venv\\lib\\site-packages\\pandas\\core\\construction.py:705\u001b[0m, in \u001b[0;36m_sanitize_ndim\u001b[1;34m(result, data, dtype, index, allow_2d)\u001b[0m\n\u001b[0;32m    703\u001b[0m     \u001b[38;5;28;01mif\u001b[39;00m allow_2d:\n\u001b[0;32m    704\u001b[0m         \u001b[38;5;28;01mreturn\u001b[39;00m result\n\u001b[1;32m--> 705\u001b[0m     \u001b[38;5;28;01mraise\u001b[39;00m \u001b[38;5;167;01mValueError\u001b[39;00m(\n\u001b[0;32m    706\u001b[0m         \u001b[38;5;124mf\u001b[39m\u001b[38;5;124m\"\u001b[39m\u001b[38;5;124mData must be 1-dimensional, got ndarray of shape \u001b[39m\u001b[38;5;132;01m{\u001b[39;00mdata\u001b[38;5;241m.\u001b[39mshape\u001b[38;5;132;01m}\u001b[39;00m\u001b[38;5;124m instead\u001b[39m\u001b[38;5;124m\"\u001b[39m\n\u001b[0;32m    707\u001b[0m     )\n\u001b[0;32m    708\u001b[0m \u001b[38;5;28;01mif\u001b[39;00m is_object_dtype(dtype) \u001b[38;5;129;01mand\u001b[39;00m \u001b[38;5;28misinstance\u001b[39m(dtype, ExtensionDtype):\n\u001b[0;32m    709\u001b[0m     \u001b[38;5;66;03m# i.e. NumpyEADtype(\"O\")\u001b[39;00m\n\u001b[0;32m    711\u001b[0m     result \u001b[38;5;241m=\u001b[39m com\u001b[38;5;241m.\u001b[39masarray_tuplesafe(data, dtype\u001b[38;5;241m=\u001b[39mnp\u001b[38;5;241m.\u001b[39mdtype(\u001b[38;5;124m\"\u001b[39m\u001b[38;5;124mobject\u001b[39m\u001b[38;5;124m\"\u001b[39m))\n",
      "\u001b[1;31mValueError\u001b[0m: Data must be 1-dimensional, got ndarray of shape (2, 3) instead"
     ]
    }
   ],
   "source": [
    "a1 = np.array([\n",
    "    [1,2,3],\n",
    "    [4,5,6]\n",
    "])\n",
    "\n",
    "s = pd.Series(a1)\n",
    "print(s)"
   ]
  },
  {
   "cell_type": "markdown",
   "id": "9cc147ba-6a4d-4a0a-bd3b-a14759a0f5ae",
   "metadata": {},
   "source": [
    "<hr><hr><hr><hr><hr>"
   ]
  },
  {
   "cell_type": "markdown",
   "id": "92d0c95e-bac9-4099-9fb2-06116190f4a1",
   "metadata": {},
   "source": [
    "<center><h1>Pandas DataFrame():</h1></center>\n",
    "<hr>\n",
    "<ul>\n",
    "    <li>Pandas Dataframe prioritises Columns before rows, unlike Pandas Series and Numpy array, both of which prioritises row over column.</li>\n",
    "    <li>This means, when accessing any value using dataframe, the left side index will be of Column, and right side index will be of row.</li>\n",
    "    <li>Ex:- <b>df[column][row]</b></li>\n",
    "</ul>"
   ]
  },
  {
   "cell_type": "markdown",
   "id": "3c365d2c-2c0a-4d03-9352-f88506166a5f",
   "metadata": {},
   "source": [
    "DataFrame stores relational 2D data, in the form of rows and columns, i.e., in tabular format."
   ]
  },
  {
   "cell_type": "markdown",
   "id": "2bddb038-d6f1-47d9-b483-344a03ed7323",
   "metadata": {},
   "source": [
    "## Creating DataFrame from Python Dictionary:"
   ]
  },
  {
   "cell_type": "code",
   "execution_count": 3,
   "id": "769c7360-4dcf-4c26-8afa-3716de38ec0e",
   "metadata": {},
   "outputs": [
    {
     "ename": "ValueError",
     "evalue": "If using all scalar values, you must pass an index",
     "output_type": "error",
     "traceback": [
      "\u001b[1;31m---------------------------------------------------------------------------\u001b[0m",
      "\u001b[1;31mValueError\u001b[0m                                Traceback (most recent call last)",
      "Cell \u001b[1;32mIn[3], line 7\u001b[0m\n\u001b[0;32m      1\u001b[0m data_dict \u001b[38;5;241m=\u001b[39m {\n\u001b[0;32m      2\u001b[0m     \u001b[38;5;241m21\u001b[39m : \u001b[38;5;124m\"\u001b[39m\u001b[38;5;124mDebanjan\u001b[39m\u001b[38;5;124m\"\u001b[39m,\n\u001b[0;32m      3\u001b[0m     \u001b[38;5;241m10\u001b[39m : \u001b[38;5;124m\"\u001b[39m\u001b[38;5;124mAtul\u001b[39m\u001b[38;5;124m\"\u001b[39m,\n\u001b[0;32m      4\u001b[0m     \u001b[38;5;241m16\u001b[39m : \u001b[38;5;124m\"\u001b[39m\u001b[38;5;124mSagnik\u001b[39m\u001b[38;5;124m\"\u001b[39m\n\u001b[0;32m      5\u001b[0m }\n\u001b[1;32m----> 7\u001b[0m df \u001b[38;5;241m=\u001b[39m \u001b[43mpd\u001b[49m\u001b[38;5;241;43m.\u001b[39;49m\u001b[43mDataFrame\u001b[49m\u001b[43m(\u001b[49m\u001b[43mdata_dict\u001b[49m\u001b[43m)\u001b[49m\n\u001b[0;32m      8\u001b[0m \u001b[38;5;28mprint\u001b[39m(df)\n",
      "File \u001b[1;32mE:\\Programs & Codes\\Data Science\\ds_venv\\lib\\site-packages\\pandas\\core\\frame.py:733\u001b[0m, in \u001b[0;36mDataFrame.__init__\u001b[1;34m(self, data, index, columns, dtype, copy)\u001b[0m\n\u001b[0;32m    727\u001b[0m     mgr \u001b[38;5;241m=\u001b[39m \u001b[38;5;28mself\u001b[39m\u001b[38;5;241m.\u001b[39m_init_mgr(\n\u001b[0;32m    728\u001b[0m         data, axes\u001b[38;5;241m=\u001b[39m{\u001b[38;5;124m\"\u001b[39m\u001b[38;5;124mindex\u001b[39m\u001b[38;5;124m\"\u001b[39m: index, \u001b[38;5;124m\"\u001b[39m\u001b[38;5;124mcolumns\u001b[39m\u001b[38;5;124m\"\u001b[39m: columns}, dtype\u001b[38;5;241m=\u001b[39mdtype, copy\u001b[38;5;241m=\u001b[39mcopy\n\u001b[0;32m    729\u001b[0m     )\n\u001b[0;32m    731\u001b[0m \u001b[38;5;28;01melif\u001b[39;00m \u001b[38;5;28misinstance\u001b[39m(data, \u001b[38;5;28mdict\u001b[39m):\n\u001b[0;32m    732\u001b[0m     \u001b[38;5;66;03m# GH#38939 de facto copy defaults to False only in non-dict cases\u001b[39;00m\n\u001b[1;32m--> 733\u001b[0m     mgr \u001b[38;5;241m=\u001b[39m \u001b[43mdict_to_mgr\u001b[49m\u001b[43m(\u001b[49m\u001b[43mdata\u001b[49m\u001b[43m,\u001b[49m\u001b[43m \u001b[49m\u001b[43mindex\u001b[49m\u001b[43m,\u001b[49m\u001b[43m \u001b[49m\u001b[43mcolumns\u001b[49m\u001b[43m,\u001b[49m\u001b[43m \u001b[49m\u001b[43mdtype\u001b[49m\u001b[38;5;241;43m=\u001b[39;49m\u001b[43mdtype\u001b[49m\u001b[43m,\u001b[49m\u001b[43m \u001b[49m\u001b[43mcopy\u001b[49m\u001b[38;5;241;43m=\u001b[39;49m\u001b[43mcopy\u001b[49m\u001b[43m,\u001b[49m\u001b[43m \u001b[49m\u001b[43mtyp\u001b[49m\u001b[38;5;241;43m=\u001b[39;49m\u001b[43mmanager\u001b[49m\u001b[43m)\u001b[49m\n\u001b[0;32m    734\u001b[0m \u001b[38;5;28;01melif\u001b[39;00m \u001b[38;5;28misinstance\u001b[39m(data, ma\u001b[38;5;241m.\u001b[39mMaskedArray):\n\u001b[0;32m    735\u001b[0m     \u001b[38;5;28;01mfrom\u001b[39;00m \u001b[38;5;21;01mnumpy\u001b[39;00m\u001b[38;5;21;01m.\u001b[39;00m\u001b[38;5;21;01mma\u001b[39;00m \u001b[38;5;28;01mimport\u001b[39;00m mrecords\n",
      "File \u001b[1;32mE:\\Programs & Codes\\Data Science\\ds_venv\\lib\\site-packages\\pandas\\core\\internals\\construction.py:503\u001b[0m, in \u001b[0;36mdict_to_mgr\u001b[1;34m(data, index, columns, dtype, typ, copy)\u001b[0m\n\u001b[0;32m    499\u001b[0m     \u001b[38;5;28;01melse\u001b[39;00m:\n\u001b[0;32m    500\u001b[0m         \u001b[38;5;66;03m# dtype check to exclude e.g. range objects, scalars\u001b[39;00m\n\u001b[0;32m    501\u001b[0m         arrays \u001b[38;5;241m=\u001b[39m [x\u001b[38;5;241m.\u001b[39mcopy() \u001b[38;5;28;01mif\u001b[39;00m \u001b[38;5;28mhasattr\u001b[39m(x, \u001b[38;5;124m\"\u001b[39m\u001b[38;5;124mdtype\u001b[39m\u001b[38;5;124m\"\u001b[39m) \u001b[38;5;28;01melse\u001b[39;00m x \u001b[38;5;28;01mfor\u001b[39;00m x \u001b[38;5;129;01min\u001b[39;00m arrays]\n\u001b[1;32m--> 503\u001b[0m \u001b[38;5;28;01mreturn\u001b[39;00m \u001b[43marrays_to_mgr\u001b[49m\u001b[43m(\u001b[49m\u001b[43marrays\u001b[49m\u001b[43m,\u001b[49m\u001b[43m \u001b[49m\u001b[43mcolumns\u001b[49m\u001b[43m,\u001b[49m\u001b[43m \u001b[49m\u001b[43mindex\u001b[49m\u001b[43m,\u001b[49m\u001b[43m \u001b[49m\u001b[43mdtype\u001b[49m\u001b[38;5;241;43m=\u001b[39;49m\u001b[43mdtype\u001b[49m\u001b[43m,\u001b[49m\u001b[43m \u001b[49m\u001b[43mtyp\u001b[49m\u001b[38;5;241;43m=\u001b[39;49m\u001b[43mtyp\u001b[49m\u001b[43m,\u001b[49m\u001b[43m \u001b[49m\u001b[43mconsolidate\u001b[49m\u001b[38;5;241;43m=\u001b[39;49m\u001b[43mcopy\u001b[49m\u001b[43m)\u001b[49m\n",
      "File \u001b[1;32mE:\\Programs & Codes\\Data Science\\ds_venv\\lib\\site-packages\\pandas\\core\\internals\\construction.py:114\u001b[0m, in \u001b[0;36marrays_to_mgr\u001b[1;34m(arrays, columns, index, dtype, verify_integrity, typ, consolidate)\u001b[0m\n\u001b[0;32m    111\u001b[0m \u001b[38;5;28;01mif\u001b[39;00m verify_integrity:\n\u001b[0;32m    112\u001b[0m     \u001b[38;5;66;03m# figure out the index, if necessary\u001b[39;00m\n\u001b[0;32m    113\u001b[0m     \u001b[38;5;28;01mif\u001b[39;00m index \u001b[38;5;129;01mis\u001b[39;00m \u001b[38;5;28;01mNone\u001b[39;00m:\n\u001b[1;32m--> 114\u001b[0m         index \u001b[38;5;241m=\u001b[39m \u001b[43m_extract_index\u001b[49m\u001b[43m(\u001b[49m\u001b[43marrays\u001b[49m\u001b[43m)\u001b[49m\n\u001b[0;32m    115\u001b[0m     \u001b[38;5;28;01melse\u001b[39;00m:\n\u001b[0;32m    116\u001b[0m         index \u001b[38;5;241m=\u001b[39m ensure_index(index)\n",
      "File \u001b[1;32mE:\\Programs & Codes\\Data Science\\ds_venv\\lib\\site-packages\\pandas\\core\\internals\\construction.py:667\u001b[0m, in \u001b[0;36m_extract_index\u001b[1;34m(data)\u001b[0m\n\u001b[0;32m    664\u001b[0m         \u001b[38;5;28;01mraise\u001b[39;00m \u001b[38;5;167;01mValueError\u001b[39;00m(\u001b[38;5;124m\"\u001b[39m\u001b[38;5;124mPer-column arrays must each be 1-dimensional\u001b[39m\u001b[38;5;124m\"\u001b[39m)\n\u001b[0;32m    666\u001b[0m \u001b[38;5;28;01mif\u001b[39;00m \u001b[38;5;129;01mnot\u001b[39;00m indexes \u001b[38;5;129;01mand\u001b[39;00m \u001b[38;5;129;01mnot\u001b[39;00m raw_lengths:\n\u001b[1;32m--> 667\u001b[0m     \u001b[38;5;28;01mraise\u001b[39;00m \u001b[38;5;167;01mValueError\u001b[39;00m(\u001b[38;5;124m\"\u001b[39m\u001b[38;5;124mIf using all scalar values, you must pass an index\u001b[39m\u001b[38;5;124m\"\u001b[39m)\n\u001b[0;32m    669\u001b[0m \u001b[38;5;28;01mif\u001b[39;00m have_series:\n\u001b[0;32m    670\u001b[0m     index \u001b[38;5;241m=\u001b[39m union_indexes(indexes)\n",
      "\u001b[1;31mValueError\u001b[0m: If using all scalar values, you must pass an index"
     ]
    }
   ],
   "source": [
    "data_dict = {\n",
    "    21 : \"Debanjan\",\n",
    "    10 : \"Atul\",\n",
    "    16 : \"Sagnik\"\n",
    "}\n",
    "\n",
    "df = pd.DataFrame(data_dict)\n",
    "print(df)"
   ]
  },
  {
   "cell_type": "markdown",
   "id": "81e6da7c-d7e1-45e3-8271-52700ad11af0",
   "metadata": {},
   "source": [
    "If we pass multiple dictionaries, nested in a dictionary, and use that as data of DataFrame, without passing any index, then:\n",
    "- The key's of the top level dictionary becomes the column headings/names.\n",
    "- The values of the top-level dictionaries are inner / low-level dictionaries. The values of the low-level dictionaries, becomes the column values.\n",
    "- The mapping between column values of one inner-dictionary, and other inner dictionary is done on the basis of matching values of keys of inner dictionaries."
   ]
  },
  {
   "cell_type": "markdown",
   "id": "b07135a1-c0af-4cea-a619-718744acabcb",
   "metadata": {},
   "source": [
    "### Example 1:"
   ]
  },
  {
   "cell_type": "code",
   "execution_count": 6,
   "id": "427bf41a-cb35-4c80-b9b5-5d622f80b2e0",
   "metadata": {},
   "outputs": [
    {
     "name": "stdout",
     "output_type": "stream",
     "text": [
      "        male     female\n",
      "21  Debanjan     Projna\n",
      "10      Atul  Rageshree\n",
      "16    Sagnik     Antara\n",
      "18     Anjan        NaN\n"
     ]
    }
   ],
   "source": [
    "n1 = {\n",
    "    21 : \"Debanjan\",\n",
    "    10 : \"Atul\",\n",
    "    16 : \"Sagnik\",\n",
    "    18 : \"Anjan\"\n",
    "}\n",
    "\n",
    "n2 = {\n",
    "    21 : \"Projna\",\n",
    "    10 : \"Rageshree\",\n",
    "    16 : \"Antara\"\n",
    "}\n",
    "\n",
    "data = { \"male\" : n1, \"female\" : n2 }\n",
    "df = pd.DataFrame( data )\n",
    "print(df)"
   ]
  },
  {
   "cell_type": "markdown",
   "id": "52b37e22-c13b-4bf4-9493-33f48d3a9411",
   "metadata": {},
   "source": [
    "### Example 2:"
   ]
  },
  {
   "cell_type": "code",
   "execution_count": 11,
   "id": "2260f404-feda-4109-a15d-c51805ba1478",
   "metadata": {},
   "outputs": [
    {
     "name": "stdout",
     "output_type": "stream",
     "text": [
      "            father   mother\n",
      "debanjan  dipankar  mausumi\n",
      "atul        dinesh     bina\n",
      "rakesh        alok  bhromor\n",
      "arpan       subhas   pamela\n",
      "arnab       prabir     roma\n"
     ]
    }
   ],
   "source": [
    "father_dict = {\n",
    "    \"debanjan\" : \"dipankar\",\n",
    "    \"atul\" : \"dinesh\",\n",
    "    \"rakesh\" : \"alok\",\n",
    "    \"arpan\" : \"subhas\",\n",
    "    \"arnab\" : \"prabir\"\n",
    "}\n",
    "\n",
    "mother_dict = {\n",
    "    \"debanjan\" : \"mausumi\",\n",
    "    \"atul\" : \"bina\",\n",
    "    \"arpan\" : \"pamela\",\n",
    "    \"arnab\" : \"roma\",\n",
    "    \"rakesh\" : \"bhromor\",\n",
    "}\n",
    "\n",
    "data = { \"father\": father_dict, \"mother\": mother_dict }\n",
    "df = pd.DataFrame(data)\n",
    "\n",
    "print(df)"
   ]
  },
  {
   "cell_type": "markdown",
   "id": "80a6e63f-7777-4e9e-aa19-4db340fd83bb",
   "metadata": {},
   "source": [
    "## Creating DataFrame from Numpy ndarray:"
   ]
  },
  {
   "cell_type": "code",
   "execution_count": 13,
   "id": "0002aff5-bf86-42e3-be5a-0c9a218e8667",
   "metadata": {},
   "outputs": [
    {
     "name": "stdout",
     "output_type": "stream",
     "text": [
      "   0  1  2\n",
      "0  1  2  3\n",
      "1  4  5  6\n"
     ]
    }
   ],
   "source": [
    "arr = np.array([\n",
    "    [1,2,3],\n",
    "    [4,5,6]\n",
    "])\n",
    "\n",
    "df = pd.DataFrame(arr)\n",
    "print(df)"
   ]
  },
  {
   "cell_type": "code",
   "execution_count": 18,
   "id": "02a15c1b-6442-45fd-b413-07f407206206",
   "metadata": {},
   "outputs": [
    {
     "name": "stdout",
     "output_type": "stream",
     "text": [
      "   0  1  2\n",
      "a  1  2  3\n",
      "b  4  5  6\n"
     ]
    }
   ],
   "source": [
    "arr = np.array([\n",
    "    [1,2,3],\n",
    "    [4,5,6],\n",
    "])\n",
    "\n",
    "df = pd.DataFrame(arr, index=[\"a\", \"b\"])\n",
    "print(df)"
   ]
  },
  {
   "cell_type": "code",
   "execution_count": 22,
   "id": "db3887c7-6a24-4157-8994-15b906ca5600",
   "metadata": {},
   "outputs": [
    {
     "data": {
      "text/plain": [
       "3"
      ]
     },
     "execution_count": 22,
     "metadata": {},
     "output_type": "execute_result"
    }
   ],
   "source": [
    "df[2]['a']"
   ]
  },
  {
   "cell_type": "code",
   "execution_count": 24,
   "id": "55dfd1e0-d9e2-4dcb-b838-11d886badc90",
   "metadata": {},
   "outputs": [
    {
     "name": "stdout",
     "output_type": "stream",
     "text": [
      "   1s  10s  100s\n",
      "0   1   10   100\n",
      "1   2   20   200\n",
      "2   3   30   300\n",
      "3   4   40   400\n",
      "4   5   50   500\n"
     ]
    }
   ],
   "source": [
    "arr1 = np.array([1,2,3,4,5])\n",
    "arr10 = np.array([10,20,30,40,50])\n",
    "arr100 = np.array([100,200,300,400,500])\n",
    "\n",
    "data = {\"1s\": arr1, \"10s\": arr10, \"100s\": arr100}\n",
    "df = pd.DataFrame(data)\n",
    "\n",
    "print(df)"
   ]
  },
  {
   "cell_type": "markdown",
   "id": "6d97b596-70dd-4ff7-8ad1-ba22073d1dec",
   "metadata": {},
   "source": [
    "## Creating DataFrame from Pandas Series:"
   ]
  },
  {
   "cell_type": "code",
   "execution_count": 25,
   "id": "cd78aa03-8118-4d72-b152-f0a6bf9aca2a",
   "metadata": {},
   "outputs": [
    {
     "name": "stdout",
     "output_type": "stream",
     "text": [
      "   s1  s10  s100\n",
      "0   1   10   100\n",
      "1   2   20   200\n",
      "2   3   30   300\n",
      "3   4   40   400\n",
      "4   5   50   500\n"
     ]
    }
   ],
   "source": [
    "s1 = pd.Series([1,2,3,4,5])\n",
    "s10 = pd.Series([10,20,30,40,50])\n",
    "s100 = pd.Series([100,200,300,400,500])\n",
    "\n",
    "data = { \"s1\": s1, \"s10\": s10, \"s100\": s100 }\n",
    "df = pd.DataFrame(data)\n",
    "\n",
    "print(df)"
   ]
  },
  {
   "cell_type": "markdown",
   "id": "8cf9ca44-c88e-4f71-83ca-8f39f78e070d",
   "metadata": {},
   "source": [
    "## Creating DataFrame from a CSV file: \n",
    "## `pandas.read_csv( <file_path>, header= None/int(list of integers)/... )`"
   ]
  },
  {
   "cell_type": "code",
   "execution_count": 28,
   "id": "f7f7358e-d8ef-47a7-8ca4-004dc7791537",
   "metadata": {},
   "outputs": [
    {
     "name": "stdout",
     "output_type": "stream",
     "text": [
      "    id         name  class  mark  gender\n",
      "0    1     John Deo   Four    75  female\n",
      "1    2     Max Ruin  Three    85    male\n",
      "2    3       Arnold  Three    55    male\n",
      "3    4   Krish Star   Four    60  female\n",
      "4    5    John Mike   Four    60  female\n",
      "5    6    Alex John   Four    55    male\n",
      "6    7  My John Rob  Fifth    78    male\n",
      "7    8       Asruid   Five    85    male\n",
      "8    9      Tes Qry    Six    78    male\n",
      "9   10     Big John   Four    55  female\n",
      "10  11       Ronald    Six    89  female\n",
      "11  12        Recky    Six    94  female\n",
      "12  13          Kty  Seven    88  female\n",
      "13  14         Bigy  Seven    88  female\n",
      "14  15     Tade Row   Four    88    male\n",
      "15  16        Gimmy   Four    88    male\n",
      "16  17        Tumyu    Six    54    male\n",
      "17  18        Honny   Five    75    male\n",
      "18  19        Tinny   Nine    18    male\n",
      "19  20       Jackly   Nine    65  female\n",
      "20  21   Babby John   Four    69  female\n",
      "21  22       Reggid  Seven    55  female\n",
      "22  23        Herod  Eight    79    male\n",
      "23  24    Tiddy Now  Seven    78    male\n",
      "24  25     Giff Tow  Seven    88    male\n",
      "25  26       Crelea  Seven    79    male\n",
      "26  27     Big Nose  Three    81  female\n",
      "27  28    Rojj Base  Seven    86  female\n",
      "28  29  Tess Played  Seven    55    male\n",
      "29  30    Reppy Red    Six    79  female\n",
      "30  31  Marry Toeey   Four    88    male\n",
      "31  32    Binn Rott  Seven    90  female\n",
      "32  33    Kenn Rein    Six    96  female\n",
      "33  34     Gain Toe  Seven    69    male\n",
      "34  35   Rows Noump    Six    88  female\n"
     ]
    }
   ],
   "source": [
    "df_student = pd.read_csv(\"./data/02_student.csv\")\n",
    "\n",
    "print(df_student)"
   ]
  },
  {
   "cell_type": "code",
   "execution_count": null,
   "id": "612f1a9b-fd76-4ee0-b99b-4870c6b21614",
   "metadata": {},
   "outputs": [],
   "source": []
  }
 ],
 "metadata": {
  "kernelspec": {
   "display_name": "Python 3 (ipykernel)",
   "language": "python",
   "name": "python3"
  },
  "language_info": {
   "codemirror_mode": {
    "name": "ipython",
    "version": 3
   },
   "file_extension": ".py",
   "mimetype": "text/x-python",
   "name": "python",
   "nbconvert_exporter": "python",
   "pygments_lexer": "ipython3",
   "version": "3.10.6"
  }
 },
 "nbformat": 4,
 "nbformat_minor": 5
}
